{
 "cells": [
  {
   "cell_type": "code",
   "execution_count": null,
   "metadata": {
    "executionInfo": {
     "elapsed": 460,
     "status": "ok",
     "timestamp": 1657710786665,
     "user": {
      "displayName": "Akinori YAMANAKA",
      "userId": "13314989427460547249"
     },
     "user_tz": -540
    },
    "id": "RloewLCM_u_l"
   },
   "outputs": [],
   "source": [
    "import numpy as np\n",
    "import matplotlib.pyplot as plt"
   ]
  },
  {
   "cell_type": "code",
   "execution_count": null,
   "metadata": {
    "executionInfo": {
     "elapsed": 6,
     "status": "ok",
     "timestamp": 1657710787056,
     "user": {
      "displayName": "Akinori YAMANAKA",
      "userId": "13314989427460547249"
     },
     "user_tz": -540
    },
    "id": "p5T6NSJ2ARcX"
   },
   "outputs": [],
   "source": [
    "nx, ny = 32, 32 # number of computational grids\n",
    "dx, dy = 0.5e-6, 0.5e-6 # spacing of computational grid [m]\n",
    "eee = 1.0e+6 # driving force of growth of phase B: g_A - g_B [J/m3]\n",
    "gamma = 1.0 # ineterfacial energy [J/m2]\n",
    "delta = 4.*dx # interfacial thickness [m]\n",
    "amobi = 4.e-14 # interfacial mobilitiy [m4/(Js)]\n",
    "ram = 0.1 # paraneter which deternines the interfacial area\n",
    "bbb = 2.*np.log((1.+(1.-2.*ram))/(1.-(1.-2.*ram)))/2.  # The constant b = 2.1972"
   ]
  },
  {
   "cell_type": "code",
   "execution_count": null,
   "metadata": {
    "executionInfo": {
     "elapsed": 6,
     "status": "ok",
     "timestamp": 1657710787057,
     "user": {
      "displayName": "Akinori YAMANAKA",
      "userId": "13314989427460547249"
     },
     "user_tz": -540
    },
    "id": "05pZP3XrAR-P"
   },
   "outputs": [],
   "source": [
    "aaa   = np.sqrt(3.*delta*gamma/bbb) # gradient energy coefficient \"a\" [(J/m)^(1/2)]\n",
    "www   = 6.*gamma*bbb/delta # potential height W [J/m3]\n",
    "pmobi = amobi*np.sqrt(2.*www)/(6.*aaa) # mobility of phase-field [m3/(Js)]"
   ]
  },
  {
   "cell_type": "code",
   "execution_count": null,
   "metadata": {
    "executionInfo": {
     "elapsed": 7,
     "status": "ok",
     "timestamp": 1657710787058,
     "user": {
      "displayName": "Akinori YAMANAKA",
      "userId": "13314989427460547249"
     },
     "user_tz": -540
    },
    "id": "bdfQ_VntAT_J"
   },
   "outputs": [],
   "source": [
    "dt = 0.1 # time increment for a time step [s]\n",
    "nsteps = 1000 # total number of time step"
   ]
  },
  {
   "cell_type": "code",
   "execution_count": null,
   "metadata": {
    "executionInfo": {
     "elapsed": 6,
     "status": "ok",
     "timestamp": 1657710787058,
     "user": {
      "displayName": "Akinori YAMANAKA",
      "userId": "13314989427460547249"
     },
     "user_tz": -540
    },
    "id": "WpBwyHjXAVhM"
   },
   "outputs": [],
   "source": [
    "p  = np.zeros((nx,ny)) # phase-field variable\n",
    "dfdp = np.zeros([nx, ny])"
   ]
  },
  {
   "cell_type": "code",
   "execution_count": null,
   "metadata": {
    "colab": {
     "base_uri": "https://localhost:8080/",
     "height": 281
    },
    "executionInfo": {
     "elapsed": 544,
     "status": "ok",
     "timestamp": 1657710787596,
     "user": {
      "displayName": "Akinori YAMANAKA",
      "userId": "13314989427460547249"
     },
     "user_tz": -540
    },
    "id": "5ZoZbf5NAXKg",
    "outputId": "daee5668-d175-4002-ade5-180d6baeffa7"
   },
   "outputs": [],
   "source": [
    "r_nuclei = 5.*dx # radius of the initial B phase\n",
    "for i in range(nx):\n",
    "    for j in range(ny):\n",
    "        r = np.sqrt( ((i-nx/2) *dx)**2 +((j-ny/2) * dy)**2 ) - r_nuclei\n",
    "        p[i,j] = 0.5*(1.-np.tanh(np.sqrt(2.*www)/(2.*aaa)*r))"
   ]
  },
  {
   "cell_type": "code",
   "execution_count": null,
   "metadata": {
    "executionInfo": {
     "elapsed": 16,
     "status": "ok",
     "timestamp": 1657710787597,
     "user": {
      "displayName": "Akinori YAMANAKA",
      "userId": "13314989427460547249"
     },
     "user_tz": -540
    },
    "id": "rj-6W6R6AoLU"
   },
   "outputs": [],
   "source": [
    "def calc_wave_vector(nx, ny, dx, dy):\n",
    "    half_nx = int(nx/2)\n",
    "    half_ny = int(ny/2)\n",
    "    dkx = (2.0 * np.pi) / (nx * dx)\n",
    "    dky = (2.0 * np.pi) / (ny * dy)\n",
    "    k2 = np.zeros([nx, ny])\n",
    "    \n",
    "    for i in range(nx):\n",
    "      if i < half_nx:\n",
    "        kx = i*dkx\n",
    "      else:\n",
    "        kx = (i-nx)*dkx\n",
    "      kx2 = kx**2\n",
    "\n",
    "      for j in range(ny):\n",
    "        if j < half_ny:\n",
    "          ky = j*dky\n",
    "        else:\n",
    "          ky = (j-ny)*dky\n",
    "        ky2 = ky**2\n",
    "\n",
    "        k2[i,j] = kx2 + ky2       \n",
    "    return k2"
   ]
  },
  {
   "cell_type": "code",
   "execution_count": null,
   "metadata": {
    "colab": {
     "base_uri": "https://localhost:8080/"
    },
    "executionInfo": {
     "elapsed": 15,
     "status": "ok",
     "timestamp": 1657710787598,
     "user": {
      "displayName": "Akinori YAMANAKA",
      "userId": "13314989427460547249"
     },
     "user_tz": -540
    },
    "id": "KGBp4Im4R00r",
    "outputId": "023f9e55-c61b-4600-a00b-3a2fa896da44"
   },
   "outputs": [],
   "source": [
    "k2 = calc_wave_vector(nx, ny, dx, dy)"
   ]
  },
  {
   "cell_type": "code",
   "execution_count": null,
   "metadata": {
    "colab": {
     "base_uri": "https://localhost:8080/",
     "height": 1000
    },
    "executionInfo": {
     "elapsed": 3004,
     "status": "ok",
     "timestamp": 1657710790590,
     "user": {
      "displayName": "Akinori YAMANAKA",
      "userId": "13314989427460547249"
     },
     "user_tz": -540
    },
    "id": "68xLFvJHAZDP",
    "outputId": "ad08f93c-65a2-4cc0-d51f-97c5d4e62191"
   },
   "outputs": [],
   "source": [
    "for istep in range(1, nsteps):\n",
    "\n",
    "  pk = np.fft.fftn(p)\n",
    "  dfdp[:,:] = 4.0 * www * p[:,:]*(1 - p[:,:])*(p[:,:] - 0.5 + 3.0/2.0/www * eee) \n",
    "\n",
    "  dfdpk = np.fft.fftn(dfdp)\n",
    " \n",
    "  nummer = pmobi * dfdpk[:,:] * dt\n",
    "  denom = 1.0 + pmobi * k2[:,:] * aaa*aaa * dt\n",
    "  pk[:,:] = (pk[:,:] + nummer) / denom\n",
    "\n",
    "  p = np.real(np.fft.ifftn(pk))\n",
    "\n",
    "  for i in range(1, nx):\n",
    "    for j in range(1, ny):\n",
    "      if(p[i, j] >= 0.9999):\n",
    "        p[i, j] = 0.9999\n",
    "      if(p[i, j] < 0.00001):\n",
    "        p[i, j] = 0.00001\n",
    "\n",
    "  if istep % 100 == 0:\n",
    "    print('nstep = ', istep)\n",
    "    plt.imshow(p, cmap='bwr')\n",
    "    plt.title('phase-field')\n",
    "    plt.colorbar()\n",
    "    plt.show() "
   ]
  },
  {
   "cell_type": "code",
   "execution_count": null,
   "metadata": {
    "executionInfo": {
     "elapsed": 8,
     "status": "ok",
     "timestamp": 1657710790591,
     "user": {
      "displayName": "Akinori YAMANAKA",
      "userId": "13314989427460547249"
     },
     "user_tz": -540
    },
    "id": "OVZi8eN_U-uQ"
   },
   "outputs": [],
   "source": []
  }
 ],
 "metadata": {
  "colab": {
   "authorship_tag": "ABX9TyORrYkEQbQZao2I13OwGkMA",
   "collapsed_sections": [],
   "name": "Allen-Cahn-2d-spectral.ipynb",
   "provenance": []
  },
  "kernelspec": {
   "display_name": "Python 3",
   "language": "python",
   "name": "python3"
  },
  "language_info": {
   "codemirror_mode": {
    "name": "ipython",
    "version": 3
   },
   "file_extension": ".py",
   "mimetype": "text/x-python",
   "name": "python",
   "nbconvert_exporter": "python",
   "pygments_lexer": "ipython3",
   "version": "3.8.8"
  }
 },
 "nbformat": 4,
 "nbformat_minor": 1
}
