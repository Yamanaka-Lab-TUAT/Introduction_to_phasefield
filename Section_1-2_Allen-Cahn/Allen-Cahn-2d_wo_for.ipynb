{
 "cells": [
  {
   "cell_type": "code",
   "execution_count": null,
   "metadata": {
    "executionInfo": {
     "elapsed": 23,
     "status": "ok",
     "timestamp": 1648706659541,
     "user": {
      "displayName": "Akinori YAMANAKA",
      "userId": "13314989427460547249"
     },
     "user_tz": -540
    },
    "id": "wKInbD66_5Jz"
   },
   "outputs": [],
   "source": [
    "import numpy as np\n",
    "import matplotlib.pyplot as plt"
   ]
  },
  {
   "cell_type": "code",
   "execution_count": null,
   "metadata": {
    "executionInfo": {
     "elapsed": 23,
     "status": "ok",
     "timestamp": 1648706659542,
     "user": {
      "displayName": "Akinori YAMANAKA",
      "userId": "13314989427460547249"
     },
     "user_tz": -540
    },
    "id": "6LV109Uz_5J2"
   },
   "outputs": [],
   "source": [
    "nx, ny = 32, 32 # number of computational grids\n",
    "dx, dy = 0.5e-6, 0.5e-6 # spacing of computational grid [m]\n",
    "eee = 1.0e+6 # driving force of growth of phase B: g_A - g_B [J/m3]\n",
    "gamma = 1.0 # ineterfacial energy [J/m2]\n",
    "delta = 4.*dx # interfacial thickness [m]\n",
    "amobi = 4.e-14 # interfacial mobilitiy [m4/(Js)]\n",
    "ram = 0.1 # paraneter which deternines the interfacial area\n",
    "bbb = 2.*np.log((1.+(1.-2.*ram))/(1.-(1.-2.*ram)))/2.  # The constant b = 2.1972"
   ]
  },
  {
   "cell_type": "code",
   "execution_count": null,
   "metadata": {
    "executionInfo": {
     "elapsed": 23,
     "status": "ok",
     "timestamp": 1648706659542,
     "user": {
      "displayName": "Akinori YAMANAKA",
      "userId": "13314989427460547249"
     },
     "user_tz": -540
    },
    "id": "tZHbEi9F_5J3"
   },
   "outputs": [],
   "source": [
    "aaa   = np.sqrt(3.*delta*gamma/bbb) # gradient energy coefficient  \"a\"[(J/m)^(1/2)]\n",
    "www   = 6.*gamma*bbb/delta # potential height W [J/m3]\n",
    "pmobi = amobi*np.sqrt(2.*www)/(6.*aaa) # mobility of phase-field [m3/(Js)]"
   ]
  },
  {
   "cell_type": "code",
   "execution_count": null,
   "metadata": {
    "colab": {
     "base_uri": "https://localhost:8080/"
    },
    "executionInfo": {
     "elapsed": 23,
     "status": "ok",
     "timestamp": 1648706659543,
     "user": {
      "displayName": "Akinori YAMANAKA",
      "userId": "13314989427460547249"
     },
     "user_tz": -540
    },
    "id": "qgSOfWEC_5J4",
    "outputId": "42765ff8-bef5-44eb-ae32-3eee0109ec8b"
   },
   "outputs": [],
   "source": [
    "dt = dx*dx/(5.*pmobi*aaa*aaa)/2 # time increment for a time step [s]\n",
    "nsteps = 1000 # total number of time step\n",
    "print(dt)"
   ]
  },
  {
   "cell_type": "code",
   "execution_count": null,
   "metadata": {
    "executionInfo": {
     "elapsed": 21,
     "status": "ok",
     "timestamp": 1648706659543,
     "user": {
      "displayName": "Akinori YAMANAKA",
      "userId": "13314989427460547249"
     },
     "user_tz": -540
    },
    "id": "-Lb2H-MX_5J5"
   },
   "outputs": [],
   "source": [
    "p  = np.zeros((nx,ny)) # phase-field variable\n",
    "p_new  = np.zeros((nx,ny)) "
   ]
  },
  {
   "cell_type": "code",
   "execution_count": null,
   "metadata": {
    "executionInfo": {
     "elapsed": 21,
     "status": "ok",
     "timestamp": 1648706659544,
     "user": {
      "displayName": "Akinori YAMANAKA",
      "userId": "13314989427460547249"
     },
     "user_tz": -540
    },
    "id": "NePddx7O_5J6"
   },
   "outputs": [],
   "source": [
    "r_nuclei = 5.*dx # radius of the initial B phase\n",
    "for i in range(nx):\n",
    "    for j in range(ny):\n",
    "        r = np.sqrt( (i *dx)**2 +(j*dy)**2 ) - r_nuclei\n",
    "        p[i,j] = 0.5*(1.-np.tanh(np.sqrt(2.*www)/(2.*aaa)*r))"
   ]
  },
  {
   "cell_type": "code",
   "execution_count": null,
   "metadata": {
    "executionInfo": {
     "elapsed": 22,
     "status": "ok",
     "timestamp": 1648706659545,
     "user": {
      "displayName": "Akinori YAMANAKA",
      "userId": "13314989427460547249"
     },
     "user_tz": -540
    },
    "id": "9pz4hUJnBCcP"
   },
   "outputs": [],
   "source": [
    "def solve_allen_cahn(p, p_new):\n",
    "    p_new[1:-1, 1:-1] = p[1:-1, 1:-1] + pmobi * ( 4.*www*p[1:-1, 1:-1]*(1.-p[1:-1, 1:-1])*(p[1:-1, 1:-1]-0.5+3./(2.*www)*eee) \\\n",
    "                                   + aaa*aaa*( (p[2:, 1:-1] - 2*p[1:-1, 1:-1] + p[:-2, 1:-1])/dx/dx \\\n",
    "                                               +(p[1:-1, 2:] - 2*p[1:-1, 1:-1] + p[1:-1, :-2])/dy/dy) ) * dt\n",
    "    p_new[0,:]    = p_new[1,:]\n",
    "    p_new[nx-1,:] = p_new[nx-2,:]\n",
    "    p_new[:,0]    = p_new[:,1]\n",
    "    p_new[:,ny-1] = p_new[:,ny-2]    \n",
    "    p[:,:] = p_new[:,:]"
   ]
  },
  {
   "cell_type": "code",
   "execution_count": null,
   "metadata": {
    "colab": {
     "base_uri": "https://localhost:8080/",
     "height": 1000
    },
    "executionInfo": {
     "elapsed": 746,
     "status": "ok",
     "timestamp": 1648706660269,
     "user": {
      "displayName": "Akinori YAMANAKA",
      "userId": "13314989427460547249"
     },
     "user_tz": -540
    },
    "id": "Y_OhcAzo_5J6",
    "outputId": "18bfa49c-0cca-48a5-a7db-8e6e2da31a59",
    "scrolled": false
   },
   "outputs": [],
   "source": [
    "for t in range(nsteps+1):\n",
    "    solve_allen_cahn(p, p_new)\n",
    "    \n",
    "    if t % 100 == 0:\n",
    "      print('nstep = ', t)\n",
    "      plt.imshow(p, cmap='bwr')\n",
    "      plt.title('phase-field')\n",
    "      plt.colorbar()\n",
    "      plt.show() "
   ]
  },
  {
   "cell_type": "code",
   "execution_count": null,
   "metadata": {
    "executionInfo": {
     "elapsed": 6,
     "status": "ok",
     "timestamp": 1648706660271,
     "user": {
      "displayName": "Akinori YAMANAKA",
      "userId": "13314989427460547249"
     },
     "user_tz": -540
    },
    "id": "yO1rtJaj_5J8"
   },
   "outputs": [],
   "source": []
  }
 ],
 "metadata": {
  "colab": {
   "collapsed_sections": [],
   "name": "Allen-Cahn-2d_wo_for.ipynb",
   "provenance": []
  },
  "kernelspec": {
   "display_name": "Python 3",
   "language": "python",
   "name": "python3"
  },
  "language_info": {
   "codemirror_mode": {
    "name": "ipython",
    "version": 3
   },
   "file_extension": ".py",
   "mimetype": "text/x-python",
   "name": "python",
   "nbconvert_exporter": "python",
   "pygments_lexer": "ipython3",
   "version": "3.8.8"
  }
 },
 "nbformat": 4,
 "nbformat_minor": 1
}
