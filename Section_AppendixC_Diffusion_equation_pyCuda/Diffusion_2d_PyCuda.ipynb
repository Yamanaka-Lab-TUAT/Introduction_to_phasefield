{
 "cells": [
  {
   "cell_type": "code",
   "execution_count": null,
   "metadata": {
    "colab": {
     "base_uri": "https://localhost:8080/"
    },
    "executionInfo": {
     "elapsed": 129202,
     "status": "ok",
     "timestamp": 1644243394768,
     "user": {
      "displayName": "Akinori YAMANAKA",
      "photoUrl": "https://lh3.googleusercontent.com/a-/AOh14GjH-a8vAX5pdveRaEOJqo-g9_KWgbs3uJ4r0GXUpA=s64",
      "userId": "13314989427460547249"
     },
     "user_tz": -540
    },
    "id": "RyuUU0-qt5rc",
    "outputId": "55127a16-a11a-404f-d524-84da99c08461"
   },
   "outputs": [],
   "source": [
    "%matplotlib nbagg\n",
    "import numpy as np \n",
    "import matplotlib.pyplot as plt\n",
    "\n",
    "!pip install pycuda # install pycuda\n",
    "import pycuda.driver as drv\n",
    "from pycuda.compiler import SourceModule"
   ]
  },
  {
   "cell_type": "code",
   "execution_count": null,
   "metadata": {
    "executionInfo": {
     "elapsed": 19,
     "status": "ok",
     "timestamp": 1644243394769,
     "user": {
      "displayName": "Akinori YAMANAKA",
      "photoUrl": "https://lh3.googleusercontent.com/a-/AOh14GjH-a8vAX5pdveRaEOJqo-g9_KWgbs3uJ4r0GXUpA=s64",
      "userId": "13314989427460547249"
     },
     "user_tz": -540
    },
    "id": "EWw957i5t5re"
   },
   "outputs": [],
   "source": [
    "nx, ny = 128, 128 # number of computational grids along x and y directions\n",
    "dx = dy = 0.5 # spacing of finite difference grids [m]\n",
    "D = 0.3 # diffusion coefficient [m2/s]\n",
    "nsteps = 1000 # number of time steps\n",
    "dt = dx*dx*dy*dy/(2*D*(dx*dx+dy*dy))*0.5 # time increment for 1 time step\n",
    "c0 = 1.0 # initial concentration in a high concentration region"
   ]
  },
  {
   "cell_type": "code",
   "execution_count": null,
   "metadata": {
    "executionInfo": {
     "elapsed": 17,
     "status": "ok",
     "timestamp": 1644243394770,
     "user": {
      "displayName": "Akinori YAMANAKA",
      "photoUrl": "https://lh3.googleusercontent.com/a-/AOh14GjH-a8vAX5pdveRaEOJqo-g9_KWgbs3uJ4r0GXUpA=s64",
      "userId": "13314989427460547249"
     },
     "user_tz": -540
    },
    "id": "X5lqWaoPt5rf"
   },
   "outputs": [],
   "source": [
    "c = np.zeros((nx, ny)).astype(np.float32) # array for a concentration-fieldat time t \n",
    "c_new = np.zeros((nx, ny)).astype(np.float32) # array for a concentration-fieldat time t+dt"
   ]
  },
  {
   "cell_type": "code",
   "execution_count": null,
   "metadata": {
    "executionInfo": {
     "elapsed": 18,
     "status": "ok",
     "timestamp": 1644243394771,
     "user": {
      "displayName": "Akinori YAMANAKA",
      "photoUrl": "https://lh3.googleusercontent.com/a-/AOh14GjH-a8vAX5pdveRaEOJqo-g9_KWgbs3uJ4r0GXUpA=s64",
      "userId": "13314989427460547249"
     },
     "user_tz": -540
    },
    "id": "DfbBUdsnXq6h"
   },
   "outputs": [],
   "source": [
    "# CUDA Cで記述する\n",
    "def get_kernel_string(nx, ny, dx, dy, dt, D):\n",
    "    return \"\"\"\n",
    "    #define nx %d\n",
    "    #define ny %d\n",
    "    #define dx %f\n",
    "    #define dy %f\n",
    "    #define dt %f\n",
    "    #define D  %f\n",
    "    __global__ void diffuse_kernel(float *u_new, float *u) {\n",
    "\n",
    "        int i = blockIdx.x * block_size_x + threadIdx.x;\n",
    "        int j = blockIdx.y * block_size_y + threadIdx.y;\n",
    "\n",
    "        int ip = i + 1;\n",
    "        int im = i - 1;\n",
    "        int jp = j + 1;\n",
    "        int jm = j - 1;\n",
    "        if(ip > nx-1) { ip = nx - 1; }\n",
    "        if(im < 0  ) { im = 0; }\n",
    "        if(jp > ny-1) { jp = ny - 1;}\n",
    "        if(jm < 0  ) { jm = 0; }\n",
    "\n",
    "        u_new[j*nx+i] = u[j*nx+i] + D * ( (u[j*nx+ ip] - 2.0f*u[j*nx+i] + u[j*nx+ im])/dx/dx + ( u[( jp )*nx+i] - 2.0f*u[j*nx+i] + u[( jm )*nx+i] )/dy/dy )*dt;\n",
    "    }\n",
    "    \"\"\" % (nx, ny, dx, dy, dt, D)\n",
    "\n",
    "kernel_string = get_kernel_string(nx, ny, dx, dy, dt, D)"
   ]
  },
  {
   "cell_type": "code",
   "execution_count": null,
   "metadata": {
    "colab": {
     "base_uri": "https://localhost:8080/",
     "height": 281
    },
    "executionInfo": {
     "elapsed": 554,
     "status": "ok",
     "timestamp": 1644243395308,
     "user": {
      "displayName": "Akinori YAMANAKA",
      "photoUrl": "https://lh3.googleusercontent.com/a-/AOh14GjH-a8vAX5pdveRaEOJqo-g9_KWgbs3uJ4r0GXUpA=s64",
      "userId": "13314989427460547249"
     },
     "user_tz": -540
    },
    "id": "za9Dh1Gct5rh",
    "outputId": "b5d10566-6ec8-4cff-87b3-e9d9d2243a9a"
   },
   "outputs": [],
   "source": [
    "r = 5.0 # radius of the high-concentration region\n",
    "x0 = nx/2 # central potition of the high-concentration region\n",
    "y0 = ny/2\n",
    "\n",
    "for i in range(nx):\n",
    "    for j in range(ny):\n",
    "        r2 = (i*dx-x0*dx)**2 + (j*dy-y0*dx)**2\n",
    "        if r2 < r**2:\n",
    "            c[i,j] = c0\n",
    "\n",
    "plt.imshow(c, cmap='bwr')\n",
    "plt.title('concentration')\n",
    "plt.colorbar()\n",
    "plt.show() "
   ]
  },
  {
   "cell_type": "code",
   "execution_count": null,
   "metadata": {
    "colab": {
     "base_uri": "https://localhost:8080/",
     "height": 370
    },
    "executionInfo": {
     "elapsed": 1567,
     "status": "ok",
     "timestamp": 1644243396850,
     "user": {
      "displayName": "Akinori YAMANAKA",
      "photoUrl": "https://lh3.googleusercontent.com/a-/AOh14GjH-a8vAX5pdveRaEOJqo-g9_KWgbs3uJ4r0GXUpA=s64",
      "userId": "13314989427460547249"
     },
     "user_tz": -540
    },
    "id": "6ePbhKCWYpKm",
    "outputId": "d3e88b68-0362-49da-e80a-152f14589a4e"
   },
   "outputs": [],
   "source": [
    "#initialize PyCuda and get compute capability needed for compilation\n",
    "drv.init()\n",
    "context = drv.Device(0).make_context()\n",
    "devprops = { str(k): v for (k, v) in context.get_device().get_attributes().items() }\n",
    "cc = str(devprops['COMPUTE_CAPABILITY_MAJOR']) + str(devprops['COMPUTE_CAPABILITY_MINOR'])\n",
    "\n",
    "#allocate GPU memory\n",
    "u_old = drv.mem_alloc(c.nbytes)\n",
    "u_new = drv.mem_alloc(c_new.nbytes)\n",
    "\n",
    "#setup thread block dimensions and compile the kernel\n",
    "threads = (16,16,1)\n",
    "grid = (int(nx/16), int(ny/16), 1)\n",
    "\n",
    "block_size_string = \"#define block_size_x 16\\n#define block_size_y 16\\n\"\n",
    "diffuse_kernel = SourceModule(block_size_string+kernel_string, arch='sm_'+cc).get_function(\"diffuse_kernel\")\n",
    "\n",
    "#create events for measuring performance\n",
    "start = drv.Event()\n",
    "end = drv.Event()\n",
    "\n",
    "#move the data to the GPU\n",
    "drv.memcpy_htod(u_old, c)\n",
    "drv.memcpy_htod(u_new, c)\n",
    "\n",
    "#call the GPU kernel a 1000 times and measure performance\n",
    "context.synchronize()\n",
    "start.record()\n",
    "for i in range(500):\n",
    "    diffuse_kernel(u_new, u_old, block=threads, grid=grid)\n",
    "    diffuse_kernel(u_old, u_new, block=threads, grid=grid)\n",
    "end.record()\n",
    "context.synchronize()\n",
    "print(\"1000 steps of diffuse took\", end.time_since(start), \"ms.\")\n",
    "\n",
    "#copy the result from the GPU to Python for plotting\n",
    "gpu_result = np.zeros_like(c)\n",
    "drv.memcpy_dtoh(gpu_result, u_new)\n",
    "\n",
    "plt.imshow(gpu_result, cmap='bwr')\n",
    "plt.title('concentration')\n",
    "plt.colorbar()\n",
    "plt.show() "
   ]
  },
  {
   "cell_type": "code",
   "execution_count": null,
   "metadata": {
    "executionInfo": {
     "elapsed": 15,
     "status": "ok",
     "timestamp": 1644243396852,
     "user": {
      "displayName": "Akinori YAMANAKA",
      "photoUrl": "https://lh3.googleusercontent.com/a-/AOh14GjH-a8vAX5pdveRaEOJqo-g9_KWgbs3uJ4r0GXUpA=s64",
      "userId": "13314989427460547249"
     },
     "user_tz": -540
    },
    "id": "wytPzkYFxVir"
   },
   "outputs": [],
   "source": []
  }
 ],
 "metadata": {
  "accelerator": "GPU",
  "colab": {
   "collapsed_sections": [],
   "name": "Diffusion_2d_PyCuda.ipynb",
   "provenance": []
  },
  "kernelspec": {
   "display_name": "Python 3",
   "language": "python",
   "name": "python3"
  },
  "language_info": {
   "codemirror_mode": {
    "name": "ipython",
    "version": 3
   },
   "file_extension": ".py",
   "mimetype": "text/x-python",
   "name": "python",
   "nbconvert_exporter": "python",
   "pygments_lexer": "ipython3",
   "version": "3.8.8"
  }
 },
 "nbformat": 4,
 "nbformat_minor": 1
}
