{
 "cells": [
  {
   "cell_type": "code",
   "execution_count": null,
   "metadata": {
    "executionInfo": {
     "elapsed": 11,
     "status": "ok",
     "timestamp": 1657695565664,
     "user": {
      "displayName": "Akinori YAMANAKA",
      "userId": "13314989427460547249"
     },
     "user_tz": -540
    },
    "id": "RyuUU0-qt5rc"
   },
   "outputs": [],
   "source": [
    "import numpy as np\n",
    "import matplotlib.pyplot as plt\n",
    "from time import time"
   ]
  },
  {
   "cell_type": "code",
   "execution_count": null,
   "metadata": {
    "colab": {
     "base_uri": "https://localhost:8080/"
    },
    "executionInfo": {
     "elapsed": 9,
     "status": "ok",
     "timestamp": 1657695567711,
     "user": {
      "displayName": "Akinori YAMANAKA",
      "userId": "13314989427460547249"
     },
     "user_tz": -540
    },
    "id": "EWw957i5t5re",
    "outputId": "ffa36702-6e5e-45ab-e222-ce6c1ad3a0ad"
   },
   "outputs": [],
   "source": [
    "nx, ny = 128, 128 \n",
    "dx = dy = 0.5 # [m]\n",
    "D = 0.1 #  [m2/s]\n",
    "nsteps = 100 \n",
    "dt = dx*dx*dy*dy/(2*D*(dx*dx+dy*dy))*0.5 \n",
    "c0 = 1.0"
   ]
  },
  {
   "cell_type": "code",
   "execution_count": null,
   "metadata": {
    "executionInfo": {
     "elapsed": 422,
     "status": "ok",
     "timestamp": 1657695678841,
     "user": {
      "displayName": "Akinori YAMANAKA",
      "userId": "13314989427460547249"
     },
     "user_tz": -540
    },
    "id": "X5lqWaoPt5rf"
   },
   "outputs": [],
   "source": [
    "c = np.zeros((nx, ny)) \n",
    "c_new = np.zeros((nx, ny)) "
   ]
  },
  {
   "cell_type": "code",
   "execution_count": null,
   "metadata": {
    "executionInfo": {
     "elapsed": 270,
     "status": "ok",
     "timestamp": 1657695680459,
     "user": {
      "displayName": "Akinori YAMANAKA",
      "userId": "13314989427460547249"
     },
     "user_tz": -540
    },
    "id": "Kyw2lJ2mt5rg"
   },
   "outputs": [],
   "source": [
    "def calc_diffusion(c, c_new):\n",
    "    for j in range(ny):\n",
    "        for i in range(nx):\n",
    "            ip = i + 1\n",
    "            im = i - 1\n",
    "            jp = j + 1\n",
    "            jm = j - 1\n",
    "            if ip > nx - 1: \n",
    "                ip = nx - 1\n",
    "            if im < 0:\n",
    "                im = 0\n",
    "            if jp > ny - 1:\n",
    "                jp = ny - 1\n",
    "            if jm < 0:\n",
    "                jm = 0 \n",
    "            c_new[i,j] = c[i,j] + D*dt*(c[ip,j] + c[im,j] +  c[i,jp]  + c[i,jm] - 4*c[i,j])/dx/dx\n",
    "    c[:,:] = c_new[:,:]"
   ]
  },
  {
   "cell_type": "code",
   "execution_count": null,
   "metadata": {
    "executionInfo": {
     "elapsed": 506,
     "status": "ok",
     "timestamp": 1657695683374,
     "user": {
      "displayName": "Akinori YAMANAKA",
      "userId": "13314989427460547249"
     },
     "user_tz": -540
    },
    "id": "za9Dh1Gct5rh",
    "scrolled": true
   },
   "outputs": [],
   "source": [
    "r = 5.0 # radius of the high-concentration region\n",
    "x0 = nx/2 # central potition of the high-concentration region\n",
    "y0 = ny/2\n",
    "\n",
    "for i in range(nx):\n",
    "    for j in range(ny):\n",
    "        r2 = (i*dx-x0*dx)**2 + (j*dy-y0*dx)**2\n",
    "        if r2 < r**2:\n",
    "            c[i,j] = c0\n",
    "\n",
    "plt.imshow(c, cmap='binary')\n",
    "plt.title('initial concentration')\n",
    "plt.colorbar()\n",
    "plt.show() "
   ]
  },
  {
   "cell_type": "code",
   "execution_count": null,
   "metadata": {
    "colab": {
     "base_uri": "https://localhost:8080/",
     "height": 1000
    },
    "executionInfo": {
     "elapsed": 55602,
     "status": "ok",
     "timestamp": 1657695740532,
     "user": {
      "displayName": "Akinori YAMANAKA",
      "userId": "13314989427460547249"
     },
     "user_tz": -540
    },
    "id": "5MDjqJILt5ri",
    "outputId": "91e89d42-75d6-4952-b396-2aba0cf07f54"
   },
   "outputs": [],
   "source": [
    "start = time()\n",
    "for nstep in range(nsteps+1):\n",
    "    calc_diffusion(c,c_new)\n",
    "\n",
    "    if nstep % 100 == 0:\n",
    "        print('nstep = ', nstep, 'time = ', nstep*dt)\n",
    "        fig = plt.figure(figsize=(7,4))\n",
    "        fig.set_dpi(100)\n",
    "        plt.imshow(c, cmap='binary')\n",
    "        plt.title('concentration')\n",
    "        plt.colorbar()\n",
    "        plt.clim(0, 1) \n",
    "        #plt.show()\n",
    "        plt.savefig('result{}.png'.format(nstep), format=\"png\", dpi=300)\n",
    "\n",
    "end = time()\n",
    "print(\"Time for 1000 time steps =\", (end-start)*1000.0, \"ms\")"
   ]
  },
  {
   "cell_type": "code",
   "execution_count": null,
   "metadata": {
    "id": "k7Bt_293t5rj"
   },
   "outputs": [],
   "source": []
  }
 ],
 "metadata": {
  "colab": {
   "collapsed_sections": [],
   "name": "Diffusion_2d.ipynb",
   "provenance": []
  },
  "kernelspec": {
   "display_name": "Python 3 (ipykernel)",
   "language": "python",
   "name": "python3"
  },
  "language_info": {
   "codemirror_mode": {
    "name": "ipython",
    "version": 3
   },
   "file_extension": ".py",
   "mimetype": "text/x-python",
   "name": "python",
   "nbconvert_exporter": "python",
   "pygments_lexer": "ipython3",
   "version": "3.12.0"
  }
 },
 "nbformat": 4,
 "nbformat_minor": 4
}
