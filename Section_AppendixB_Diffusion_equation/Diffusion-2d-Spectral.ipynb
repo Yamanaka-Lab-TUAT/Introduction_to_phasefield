{
 "cells": [
  {
   "cell_type": "code",
   "execution_count": null,
   "metadata": {
    "id": "mKQCm9E2OYGV"
   },
   "outputs": [],
   "source": [
    "import numpy as np\n",
    "import matplotlib.pyplot as plt"
   ]
  },
  {
   "cell_type": "code",
   "execution_count": null,
   "metadata": {
    "id": "ClQ2jZmJOcfY"
   },
   "outputs": [],
   "source": [
    "nx, ny = 128, 128 # number of computational grids along x and y directions\n",
    "dx = dy = 0.5 # spacing of finite difference grids [m]\n",
    "D = 0.3 # diffusion coefficient [m2/s]\n",
    "nsteps = 10000 # number of time steps\n",
    "dt = 0.01 # time increment for 1 time step\n",
    "c0 = 1.0 # initial concentration in a high concentration region"
   ]
  },
  {
   "cell_type": "code",
   "execution_count": null,
   "metadata": {
    "id": "UjURKOpcOfpL"
   },
   "outputs": [],
   "source": [
    "c = np.zeros([nx, ny])\n",
    "c_new = np.zeros([nx, ny])\n",
    "c_k = np.zeros([nx, ny])\n",
    "c_new_k = np.zeros([nx, ny])"
   ]
  },
  {
   "cell_type": "code",
   "execution_count": null,
   "metadata": {
    "colab": {
     "base_uri": "https://localhost:8080/",
     "height": 281
    },
    "executionInfo": {
     "elapsed": 417,
     "status": "ok",
     "timestamp": 1657708375091,
     "user": {
      "displayName": "Akinori YAMANAKA",
      "userId": "13314989427460547249"
     },
     "user_tz": -540
    },
    "id": "Dzy16msdOh7S",
    "outputId": "e0dfa7fc-fa43-4b04-efec-30ef04807063"
   },
   "outputs": [],
   "source": [
    "r = 5.0 # radius of the high-concentration region\n",
    "x0 = nx/2 # central potition of the high-concentration region\n",
    "y0 = ny/2\n",
    "for i in range(nx):\n",
    "    for j in range(ny):\n",
    "        r2 = (i*dx-x0*dx)**2 + (j*dy-y0*dx)**2\n",
    "        if r2 < r**2:\n",
    "            c[i,j] = c0"
   ]
  },
  {
   "cell_type": "code",
   "execution_count": null,
   "metadata": {
    "colab": {
     "base_uri": "https://localhost:8080/"
    },
    "executionInfo": {
     "elapsed": 310,
     "status": "ok",
     "timestamp": 1657709464410,
     "user": {
      "displayName": "Akinori YAMANAKA",
      "userId": "13314989427460547249"
     },
     "user_tz": -540
    },
    "id": "d3ZpkYH48fH6",
    "outputId": "bb03e660-dab6-45c0-c738-8c2b962b36f5"
   },
   "outputs": [],
   "source": [
    "def calc_wave_vector(nx, ny, dx, dy):\n",
    "    half_nx = int(nx/2)\n",
    "    half_ny = int(ny/2)\n",
    "    dkx = (2.0 * np.pi) / (nx * dx)\n",
    "    dky = (2.0 * np.pi) / (ny * dy)\n",
    "    k2 = np.zeros([nx, ny])\n",
    "    \n",
    "    for i in range(nx):\n",
    "      if i < half_nx:\n",
    "        kx = i*dkx\n",
    "      else:\n",
    "        kx = (i-nx)*dkx\n",
    "      kx2 = kx**2\n",
    "\n",
    "      for j in range(ny):\n",
    "        if j < half_ny:\n",
    "          ky = j*dky\n",
    "        else:\n",
    "          ky = (j-ny)*dky\n",
    "        ky2 = ky**2\n",
    "\n",
    "        k2[i,j] = kx2 + ky2       \n",
    "    return k2\n",
    "\n",
    "k2 = calc_wave_vector(nx, ny, dx, dy)"
   ]
  },
  {
   "cell_type": "code",
   "execution_count": null,
   "metadata": {
    "colab": {
     "base_uri": "https://localhost:8080/",
     "height": 1000
    },
    "executionInfo": {
     "elapsed": 15912,
     "status": "ok",
     "timestamp": 1657708390995,
     "user": {
      "displayName": "Akinori YAMANAKA",
      "userId": "13314989427460547249"
     },
     "user_tz": -540
    },
    "id": "U4PPMnh5BTNw",
    "outputId": "468c575b-c722-4e56-ede6-d1387001c631"
   },
   "outputs": [],
   "source": [
    "for istep in range(nsteps+1):\n",
    "\n",
    "  c_k = np.fft.fftn(c)\n",
    "  c_new_k[:,:] = c_k[:,:] - dt * D * k2[:,:]  * c_k[:,:] \n",
    "\n",
    "  c = np.real(np.fft.ifftn(c_new_k))\n",
    "\n",
    "  if istep % 1000 == 0:\n",
    "    print('nstep = ', istep, 'time = ', istep*dt)\n",
    "    plt.imshow(c, cmap='bwr')\n",
    "    plt.title('concentration of B atom')\n",
    "    plt.colorbar()\n",
    "    plt.show() "
   ]
  },
  {
   "cell_type": "code",
   "execution_count": null,
   "metadata": {
    "id": "b5duaKZfPTXl"
   },
   "outputs": [],
   "source": []
  }
 ],
 "metadata": {
  "colab": {
   "authorship_tag": "ABX9TyPwh3aLiXUfL8ol6OTYuULe",
   "collapsed_sections": [],
   "name": "Diffusion-2d-Spectral.ipynb",
   "provenance": []
  },
  "kernelspec": {
   "display_name": "Python 3 (ipykernel)",
   "language": "python",
   "name": "python3"
  },
  "language_info": {
   "codemirror_mode": {
    "name": "ipython",
    "version": 3
   },
   "file_extension": ".py",
   "mimetype": "text/x-python",
   "name": "python",
   "nbconvert_exporter": "python",
   "pygments_lexer": "ipython3",
   "version": "3.12.0"
  }
 },
 "nbformat": 4,
 "nbformat_minor": 4
}
