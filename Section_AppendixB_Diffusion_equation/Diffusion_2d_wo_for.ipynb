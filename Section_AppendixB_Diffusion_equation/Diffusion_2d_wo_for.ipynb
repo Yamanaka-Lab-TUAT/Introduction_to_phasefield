{
 "cells": [
  {
   "cell_type": "code",
   "execution_count": null,
   "metadata": {
    "executionInfo": {
     "elapsed": 4,
     "status": "ok",
     "timestamp": 1644212608966,
     "user": {
      "displayName": "Akinori YAMANAKA",
      "photoUrl": "https://lh3.googleusercontent.com/a-/AOh14GjH-a8vAX5pdveRaEOJqo-g9_KWgbs3uJ4r0GXUpA=s64",
      "userId": "13314989427460547249"
     },
     "user_tz": -540
    },
    "id": "pOr0jCHMuGLK"
   },
   "outputs": [],
   "source": [
    "import numpy as np\n",
    "import matplotlib.pyplot as plt\n",
    "from time import time"
   ]
  },
  {
   "cell_type": "code",
   "execution_count": null,
   "metadata": {
    "executionInfo": {
     "elapsed": 31,
     "status": "ok",
     "timestamp": 1644212609329,
     "user": {
      "displayName": "Akinori YAMANAKA",
      "photoUrl": "https://lh3.googleusercontent.com/a-/AOh14GjH-a8vAX5pdveRaEOJqo-g9_KWgbs3uJ4r0GXUpA=s64",
      "userId": "13314989427460547249"
     },
     "user_tz": -540
    },
    "id": "qu0EyrAYuGLN"
   },
   "outputs": [],
   "source": [
    "nx, ny = 128, 128 # number of computational grids along x and y directions\n",
    "dx = dy = 0.5 # spacing of finite difference grids [m]\n",
    "D = 0.3 # diffusion coefficient [m2/s]\n",
    "nsteps = 1000 # number of time steps\n",
    "dt = dx*dx*dy*dy/(2*D*(dx*dx+dy*dy))*0.5 # time increment for 1 time step\n",
    "c0 = 1.0 # initial concentration in a high concentration region"
   ]
  },
  {
   "cell_type": "code",
   "execution_count": null,
   "metadata": {
    "executionInfo": {
     "elapsed": 30,
     "status": "ok",
     "timestamp": 1644212609329,
     "user": {
      "displayName": "Akinori YAMANAKA",
      "photoUrl": "https://lh3.googleusercontent.com/a-/AOh14GjH-a8vAX5pdveRaEOJqo-g9_KWgbs3uJ4r0GXUpA=s64",
      "userId": "13314989427460547249"
     },
     "user_tz": -540
    },
    "id": "Ws9GDC19uGLP"
   },
   "outputs": [],
   "source": [
    "c = np.zeros((nx, ny)) # array for a concentration-fieldat time t \n",
    "c_new = np.zeros((nx, ny)) # array for a concentration-fieldat time t+dt"
   ]
  },
  {
   "cell_type": "code",
   "execution_count": null,
   "metadata": {
    "executionInfo": {
     "elapsed": 31,
     "status": "ok",
     "timestamp": 1644212609330,
     "user": {
      "displayName": "Akinori YAMANAKA",
      "photoUrl": "https://lh3.googleusercontent.com/a-/AOh14GjH-a8vAX5pdveRaEOJqo-g9_KWgbs3uJ4r0GXUpA=s64",
      "userId": "13314989427460547249"
     },
     "user_tz": -540
    },
    "id": "iXkJCOKluGLR"
   },
   "outputs": [],
   "source": [
    "def calc_diffusion(c, c_new):\n",
    "    c_new[1:-1, 1:-1] = c[1:-1, 1:-1] + D*dt* (c[2:, 1:-1] + c[:-2, 1:-1] + c[1:-1, 2:]  + c[1:-1, :-2] - 4*c[1:-1, 1:-1]) /dx/dx  \n",
    "\n",
    "    c_new[0,:] = c_new[1,:]\n",
    "    c_new[nx-1,:] = c_new[nx-2,:]\n",
    "    c_new[:,0] = c_new[:,1]\n",
    "    c_new[:,ny-1] = c_new[:,ny-2]\n",
    "    c[:,:] = c_new[:,:]"
   ]
  },
  {
   "cell_type": "code",
   "execution_count": null,
   "metadata": {
    "executionInfo": {
     "elapsed": 32,
     "status": "ok",
     "timestamp": 1644212609331,
     "user": {
      "displayName": "Akinori YAMANAKA",
      "photoUrl": "https://lh3.googleusercontent.com/a-/AOh14GjH-a8vAX5pdveRaEOJqo-g9_KWgbs3uJ4r0GXUpA=s64",
      "userId": "13314989427460547249"
     },
     "user_tz": -540
    },
    "id": "MV2HPdC_uGLS"
   },
   "outputs": [],
   "source": [
    "r = 5.0 # radius of the high-concentration region\n",
    "x0 = nx/2 # central potition of the high-concentration region\n",
    "y0 = ny/2\n",
    "\n",
    "for i in range(nx):\n",
    "    for j in range(ny):\n",
    "        r2 = (i*dx-x0*dx)**2 + (j*dy-y0*dx)**2\n",
    "        if r2 < r**2:\n",
    "            c[i,j] = c0\n",
    "\n",
    "plt.imshow(c, cmap='bwr')\n",
    "plt.title('initial concentration')\n",
    "plt.colorbar()\n",
    "plt.show() "
   ]
  },
  {
   "cell_type": "code",
   "execution_count": null,
   "metadata": {
    "colab": {
     "base_uri": "https://localhost:8080/",
     "height": 1000
    },
    "executionInfo": {
     "elapsed": 3591,
     "status": "ok",
     "timestamp": 1644212612891,
     "user": {
      "displayName": "Akinori YAMANAKA",
      "photoUrl": "https://lh3.googleusercontent.com/a-/AOh14GjH-a8vAX5pdveRaEOJqo-g9_KWgbs3uJ4r0GXUpA=s64",
      "userId": "13314989427460547249"
     },
     "user_tz": -540
    },
    "id": "Cn_snGmguGLT",
    "outputId": "f966cf7f-0875-490e-d5cc-e44714b0d41c",
    "scrolled": false
   },
   "outputs": [],
   "source": [
    "start = time()\n",
    "for nstep in range(nsteps+1):\n",
    "    calc_diffusion(c,c_new)\n",
    "\n",
    "    if nstep % 100 == 0:\n",
    "        print('nstep = ', nstep)\n",
    "        plt.imshow(c, cmap='bwr')\n",
    "        plt.title('concentration')\n",
    "        plt.colorbar()\n",
    "        plt.show() \n",
    "\n",
    "end = time()\n",
    "print(\"Time for 1000 time steps =\", (end-start)*1000.0, \"ms\")"
   ]
  }
 ],
 "metadata": {
  "colab": {
   "collapsed_sections": [],
   "name": "Diffusion_2d_wo_for.ipynb",
   "provenance": []
  },
  "kernelspec": {
   "display_name": "Python 3",
   "language": "python",
   "name": "python3"
  },
  "language_info": {
   "codemirror_mode": {
    "name": "ipython",
    "version": 3
   },
   "file_extension": ".py",
   "mimetype": "text/x-python",
   "name": "python",
   "nbconvert_exporter": "python",
   "pygments_lexer": "ipython3",
   "version": "3.8.8"
  }
 },
 "nbformat": 4,
 "nbformat_minor": 1
}
