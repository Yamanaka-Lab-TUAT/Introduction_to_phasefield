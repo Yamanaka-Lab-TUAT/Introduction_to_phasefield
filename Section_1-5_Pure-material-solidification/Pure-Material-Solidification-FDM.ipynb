{
 "cells": [
  {
   "cell_type": "code",
   "execution_count": null,
   "metadata": {
    "id": "vftjMEXQkI9R"
   },
   "outputs": [],
   "source": [
    "import numpy as np\n",
    "import matplotlib.pyplot as plt\n",
    "from numba import jit\n",
    "from time import time"
   ]
  },
  {
   "cell_type": "code",
   "execution_count": null,
   "metadata": {
    "id": "mXbqgVPdkLmX"
   },
   "outputs": [],
   "source": [
    "nx = ny = 256 # 差分格子点数\n",
    "dx = dy = 2.0e-08 # 差分格子点の間隔[m]\n",
    "dt = 5.0e-12 # 時間増分[s]\n",
    "stepmax = 7000 # 時間ステップの総数\n",
    "pi = np.pi \n",
    "delta = 4.0 * dx # 界面幅[m]\n",
    "gamma = 0.37 # 界面エネルギー [J/m2]\n",
    "zeta = 0.03 # 異方性強度\n",
    "aniso = 4.0 # 異方性モード数\n",
    "angle0 = 0.*pi # 優先成長方向\n",
    "T_melt = 1728.0 # 融点Tm [K]\n",
    "K = 84.01 # 熱伝導率 [W/(mK)]\n",
    "c = 5.42e+06 # 比熱 [J/K]\n",
    "latent = 2.35e+09 # 潜熱 [J/mol]\n",
    "lamb = 0.1\n",
    "b = 2.0 * np.arctanh(1.0-2.0*lamb)\n",
    "mu = 2.0 # 界面カイネティック係数 [m/(Ks)]\n",
    "kappa = K / c # 熱拡散係数\n",
    "a0 = np.sqrt(3.0*delta*gamma/b) # 勾配エネルギー係数 \n",
    "www = 6.0 * gamma * b / delta # エネルギー障壁の高さ\n",
    "pmobi = b * T_melt * mu / (3.0 * delta * latent) # フェーズフィールドモビリティー \n",
    "T_0 = 1424.5 # 系の温度 [K]"
   ]
  },
  {
   "cell_type": "code",
   "execution_count": null,
   "metadata": {
    "id": "bL1tYLoakYJc"
   },
   "outputs": [],
   "source": [
    "phi = np.zeros((nx,ny)) # 時刻tでのフェーズフィールド変数\n",
    "phi_new = np.zeros((nx,ny)) # 時刻t+dtでのフェーズフィールド変数\n",
    "temp = np.zeros((nx,ny)) # 時刻tでの温度\n",
    "temp_new = np.zeros((nx,ny)) # 時刻t+dtでの温度\n",
    "grad_phix = np.zeros((nx,ny)) # x方向のフェーズフィールド変数の勾配 \n",
    "grad_phiy = np.zeros((nx,ny)) # y方向のフェーズフィールド変数の勾配 \n",
    "a2 = np.zeros((nx,ny)) # (勾配エネルギー係数)^2\n",
    "lap_temp = np.zeros((nx,ny)) # 温度のラプラシアン\n",
    "lap_phi = np.zeros((nx,ny)) # フェーズフィールドのラプラシアン\n",
    "ax = np.zeros((nx,ny)) \n",
    "ay = np.zeros((nx,ny))"
   ]
  },
  {
   "cell_type": "code",
   "execution_count": null,
   "metadata": {
    "id": "2jMWkmX4kjyg"
   },
   "outputs": [],
   "source": [
    "r0 = 3.*dx\n",
    "for j in range(0,ny):\n",
    "    for i in range(0,nx):\n",
    "        phi[i,j] = 0.0\n",
    "        x = dx*(i-nx/2)\n",
    "        y = dy*(j-ny/2)\n",
    "        r = np.sqrt(x*x + y*y)\n",
    "        phi[i,j] = 0.5*(1.-np.tanh(np.sqrt(2.*www)/(2.*a0)*(r-r0))) # フェーズフィールド変数の初期分布\n",
    "        if phi[i,j] <= 1.0e-5:\n",
    "            phi[i,j] = 0.0\n",
    "        temp[i,j] = T_0 + phi[i,j] * (T_melt-T_0) # 温度の初期分布"
   ]
  },
  {
   "cell_type": "code",
   "execution_count": null,
   "metadata": {
    "id": "K-ANeSeskbob"
   },
   "outputs": [],
   "source": [
    "@jit\n",
    "def calcgrad(phi,temp,zeta,a0,www,grad_phix,grad_phiy,lap_phi,lap_temp,ax,ay,a2):\n",
    "    for j in range(ny):\n",
    "        for i in range(nx):\n",
    "            ip = i + 1\n",
    "            im = i - 1\n",
    "            jp = j + 1\n",
    "            jm = j - 1\n",
    "            if ip > nx-1:\n",
    "                ip = nx - 1\n",
    "            if im < 0:\n",
    "                im = 0\n",
    "            if jp > ny-1:\n",
    "                jp = ny - 1\n",
    "            if jm < 0:\n",
    "                jm = 0\n",
    "\n",
    "            grad_phix[i,j] = (phi[ip,j]-phi[im,j])/(2.*dx)\n",
    "            grad_phiy[i,j] = (phi[i,jp]-phi[i,jm])/(2.*dy)\n",
    "            lap_phi[i,j] = (2.*(phi[ip,j]+phi[im,j]+phi[i,jp]+phi[i,jm])+phi[ip,jp]+phi[im,jm]+phi[im,jp]+phi[ip,jm]-12.*phi[i,j])/(3.*dx*dx)\n",
    "            lap_temp[i,j]= (2.*(temp[ip,j]+temp[im,j]+temp[i,jp]+temp[i,jm])+temp[ip,jp]+temp[im,jm]+temp[im,jp]+temp[ip,jm]-12.*temp[i,j])/(3.*dx*dx)\n",
    "\n",
    "            if grad_phix[i,j] == 0.:\n",
    "                if grad_phiy[i,j] > 0.:\n",
    "                    angle = 0.5*pi\n",
    "                else:\n",
    "                    angle = -0.5*pi\n",
    "            elif grad_phix[i,j] > 0.:\n",
    "                if grad_phiy[i,j] > 0.:\n",
    "                    angle = np.arctan(grad_phiy[i,j]/grad_phix[i,j])\n",
    "                else:\n",
    "                    angle = 2.0*pi + np.arctan(grad_phiy[i,j]/grad_phix[i,j])\n",
    "            else:\n",
    "                angle = pi + np.arctan(grad_phiy[i,j]/grad_phix[i,j])\n",
    "\n",
    "            a = a0*(1. + zeta * np.cos(aniso*(angle-angle0)))\n",
    "            dadtheta = -a0*aniso*zeta*np.sin(aniso*(angle-angle0))\n",
    "            ay[i,j] = -a * dadtheta * grad_phiy[i,j]\n",
    "            ax[i,j] =  a * dadtheta * grad_phix[i,j]\n",
    "            a2[i,j] = a * a"
   ]
  },
  {
   "cell_type": "code",
   "execution_count": null,
   "metadata": {
    "id": "vh2bLbqLkgSd"
   },
   "outputs": [],
   "source": [
    "@jit\n",
    "def timeevol(phi,temp,zeta,a0,www,grad_phix,grad_phiy,lap_phi,lap_temp,ax,ay,a2,phi_new,temp_new):\n",
    "    for j in range(ny):\n",
    "        for i in range(nx):\n",
    "            ip = i + 1\n",
    "            im = i - 1\n",
    "            jp = j + 1\n",
    "            jm = j - 1\n",
    "            if ip > nx-1:\n",
    "                ip = nx - 1\n",
    "            if im < 0:\n",
    "                im = 0\n",
    "            if jp > ny-1:\n",
    "                jp = ny -1\n",
    "            if jm < 0:\n",
    "                jm = 0\n",
    "\n",
    "            dxdy = (ay[ip,j]-ay[im,j])/(2.*dx)\n",
    "            dydx = (ax[i,jp]-ax[i,jm])/(2.*dy)\n",
    "            grad_a2x = (a2[ip,j]-a2[im,j])/(2.*dx)\n",
    "            grad_a2y = (a2[i,jp]-a2[i,jm])/(2.*dy)\n",
    "            tet = phi[i,j]\n",
    "            drive = -latent * (temp[i,j]-T_melt) / T_melt\n",
    "            scal = grad_a2x*grad_phix[i,j]+grad_a2y*grad_phiy[i,j]\n",
    "\n",
    "            phi_new[i,j] = phi[i,j] + (dxdy + dydx + a2[i,j]*lap_phi[i,j] + scal + 4.0*www*tet*(1.0-tet)*(tet-0.5+15.0/(2.0*www)*drive*tet*(1.0-tet)))*dt*pmobi\n",
    "            temp_new[i,j] = temp[i,j] + kappa*lap_temp[i,j]*dt + 30.0*tet*tet*(1.0-tet)*(1.0-tet)*(latent/c)*(phi_new[i,j]-tet)"
   ]
  },
  {
   "cell_type": "code",
   "execution_count": null,
   "metadata": {
    "colab": {
     "base_uri": "https://localhost:8080/",
     "height": 390
    },
    "executionInfo": {
     "elapsed": 120117,
     "status": "ok",
     "timestamp": 1666438502493,
     "user": {
      "displayName": "Akinori Yamanaka",
      "userId": "04881339994405091902"
     },
     "user_tz": -540
    },
    "id": "KS3KCo9LkoSf",
    "outputId": "5694a012-b426-4531-8064-bf6cc157ebfd"
   },
   "outputs": [],
   "source": [
    "for nstep in range(stepmax):\n",
    "    calcgrad(phi,temp,zeta,a0,www,grad_phix,grad_phiy,lap_phi,lap_temp,ax,ay,a2)\n",
    "    timeevol(phi,temp,zeta,a0,www,grad_phix,grad_phiy,lap_phi,lap_temp,ax,ay,a2,phi_new,temp_new)\n",
    "    phi = phi_new\n",
    "    temp = temp_new\n",
    "    \n",
    "    if nstep % 700 == 0:\n",
    "        plt.figure(figsize=(12,6))\n",
    "        plt.rcParams[\"font.size\"] = 15\n",
    "        plt.subplot(121)\n",
    "        plt.imshow(phi, cmap=\"bwr\")\n",
    "        plt.title('Phase-field')\n",
    "        plt.colorbar()\n",
    "        plt.subplot(122)\n",
    "        plt.imshow(temp, cmap=\"bwr\")\n",
    "        plt.title('Temperature [K]')\n",
    "        plt.colorbar()\n",
    "        plt.show()"
   ]
  }
 ],
 "metadata": {
  "colab": {
   "collapsed_sections": [],
   "provenance": []
  },
  "kernelspec": {
   "display_name": "Python 3 (ipykernel)",
   "language": "python",
   "name": "python3"
  },
  "language_info": {
   "codemirror_mode": {
    "name": "ipython",
    "version": 3
   },
   "file_extension": ".py",
   "mimetype": "text/x-python",
   "name": "python",
   "nbconvert_exporter": "python",
   "pygments_lexer": "ipython3",
   "version": "3.12.0"
  }
 },
 "nbformat": 4,
 "nbformat_minor": 4
}
