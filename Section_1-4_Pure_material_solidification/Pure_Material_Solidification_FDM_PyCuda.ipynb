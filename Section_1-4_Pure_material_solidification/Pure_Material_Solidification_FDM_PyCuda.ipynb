{
 "cells": [
  {
   "cell_type": "markdown",
   "metadata": {
    "id": "evYt5wCMFKIl"
   },
   "source": [
    "# **Finite difference solver for phase-field model of solidification in pure material**\n",
    "Allen-Cahn equation\n",
    "$$\n",
    "\\frac{\\partial \\phi}{\\partial t} = M_{\\phi}\\left[ \\nabla (a^2 \\nabla \\phi) - \\frac{\\partial}{\\partial x} \\left( a \\frac{\\partial a}{\\partial \\theta} \\frac{\\partial \\phi}{\\partial y} \\right) + \\frac{\\partial}{\\partial y} \\left( a \\frac{\\partial a}{\\partial \\theta} \\frac{\\partial \\phi}{\\partial x} \\right) + 4W\\phi(1-\\phi)\\left\\{\\phi-0.5-\\frac{15}{2W}\\frac{L\\left(T-T_m\\right)}{T_m} \\phi\\left( 1-\\phi \\right)  \\right\\}  \\right]\n",
    "$$\n",
    "Thermal diffusion equation\n",
    "$$\n",
    "\\frac{\\partial T}{\\partial t}  = \\kappa\\nabla^2 T + 30\\phi^2 (1-\\phi)^2\\frac{L}{c}\\frac{\\partial \\phi}{\\partial t}\n",
    "$$\n",
    "## **Finite difference discretization**\n",
    "Allen-Cahn equation\n",
    "$$\n",
    "\\phi^{n+1}_{[i,j]} = \\phi^{n}_{[i,j]} + M_{\\phi}\\left\\{ \\nabla a^{2}\\nabla \\phi_{[i,j]}^{n} + a^2 \\nabla^2 \\phi_{[i,j]}^{n} + A^{\\prime} + B^{\\prime}  + f\\left(\\phi_{[i,j]}^n\\right) \\right\\} \\Delta t\n",
    "$$\n",
    "where, \n",
    "$$\n",
    "A' = -a \\frac{\\partial a}{\\partial \\theta} \\frac{\\partial \\phi}{\\partial y} = -a a_0 k \\xi \\sin \\left( k\\left(\\theta^n_{[i,j]}-\\theta_0\\right)\\right) \\frac{\\phi^n_{[i,j+1]} - \\phi^n_{[i,j-1]}}{2\\Delta y}\n",
    "$$\n",
    "$$\n",
    "B' = a \\frac{\\partial a}{\\partial \\theta} \\frac{\\partial \\phi}{\\partial x} = a a_0 k \\xi \\sin \\left( k\\left(\\theta^n_{[i,j]}-\\theta_0\\right)\\right) \\frac{\\phi^n_{[i+1,j]} - \\phi^n_{[i-1,j]}}{2\\Delta x}\n",
    "$$\n",
    "$$\n",
    "f\\left(\\phi_{[i,j]}^n\\right) = 4W\\phi^{n}_{[i,j]}\\left(1-\\phi^{n}_{[i,j]}\\right) \n",
    "\\left\\{\\phi_{[i,j]}^n -0.5-\\frac{15}{2W}\\frac{L\\left(T^n_{[i,j]}-T_m\\right)}{T_m} \\phi_{[i,j]}^n \\left( 1-\\phi_{[i,j]}^n \\right)  \\right\\} \n",
    "$$\n",
    "Thermal diffusion equation\n",
    "\n",
    "$$\n",
    "T^{n+1}_{[i,j]} = T^{n}_{[i,j]} \n",
    "+ \\kappa \\Delta t \\left( \\frac{ T^n_{[i+1,j]} + T^n_{[i-1,j]} + T^n_{[i,j+1]} + T^n_{[i,j-1]}- 4T^n_{[i,j]}}{\\Delta x^2}  \\right) \n",
    "+ 30\\left(\\phi^{n}_{[i,j]}\\right)^2\\left(1-\\phi^{n}_{[i,j]}\\right)^2\\frac{L}{c}\\left( \\phi^{n+1}_{[i,j]}-\\phi^{n}_{[i,j]} \\right)\n",
    "$$"
   ]
  },
  {
   "cell_type": "markdown",
   "metadata": {
    "id": "4QyIKhz8FNth"
   },
   "source": [
    "##**Import libraries**"
   ]
  },
  {
   "cell_type": "code",
   "execution_count": null,
   "metadata": {
    "colab": {
     "base_uri": "https://localhost:8080/"
    },
    "executionInfo": {
     "elapsed": 2497,
     "status": "ok",
     "timestamp": 1666438760878,
     "user": {
      "displayName": "Akinori Yamanaka",
      "userId": "04881339994405091902"
     },
     "user_tz": -540
    },
    "id": "VYytvocoKuQA",
    "outputId": "aa9c818b-67f8-4224-b575-136cc94087d9"
   },
   "outputs": [
    {
     "name": "stdout",
     "output_type": "stream",
     "text": [
      "Looking in indexes: https://pypi.org/simple, https://us-python.pkg.dev/colab-wheels/public/simple/\n",
      "Requirement already satisfied: pycuda in /usr/local/lib/python3.7/dist-packages (2022.1)\n",
      "Requirement already satisfied: pytools>=2011.2 in /usr/local/lib/python3.7/dist-packages (from pycuda) (2022.1.12)\n",
      "Requirement already satisfied: mako in /usr/local/lib/python3.7/dist-packages (from pycuda) (1.2.3)\n",
      "Requirement already satisfied: appdirs>=1.4.0 in /usr/local/lib/python3.7/dist-packages (from pycuda) (1.4.4)\n",
      "Requirement already satisfied: platformdirs>=2.2.0 in /usr/local/lib/python3.7/dist-packages (from pytools>=2011.2->pycuda) (2.5.2)\n",
      "Requirement already satisfied: typing-extensions>=4.0 in /usr/local/lib/python3.7/dist-packages (from pytools>=2011.2->pycuda) (4.1.1)\n",
      "Requirement already satisfied: importlib-metadata in /usr/local/lib/python3.7/dist-packages (from mako->pycuda) (4.13.0)\n",
      "Requirement already satisfied: MarkupSafe>=0.9.2 in /usr/local/lib/python3.7/dist-packages (from mako->pycuda) (2.0.1)\n",
      "Requirement already satisfied: zipp>=0.5 in /usr/local/lib/python3.7/dist-packages (from importlib-metadata->mako->pycuda) (3.9.0)\n"
     ]
    }
   ],
   "source": [
    "import numpy as np\n",
    "import matplotlib.pyplot as plt\n",
    "from time import time\n",
    "\n",
    "!pip install pycuda # install pycuda\n",
    "import pycuda.driver as drv\n",
    "from pycuda.compiler import SourceModule"
   ]
  },
  {
   "cell_type": "markdown",
   "metadata": {
    "id": "1NeZ8izwFXJg"
   },
   "source": [
    "## **Get information of GPU connected**"
   ]
  },
  {
   "cell_type": "code",
   "execution_count": null,
   "metadata": {
    "colab": {
     "base_uri": "https://localhost:8080/"
    },
    "executionInfo": {
     "elapsed": 411,
     "status": "ok",
     "timestamp": 1666438761521,
     "user": {
      "displayName": "Akinori Yamanaka",
      "userId": "04881339994405091902"
     },
     "user_tz": -540
    },
    "id": "7mbk0EG0IgBy",
    "outputId": "096716a3-8197-45e1-c3e1-1ea6d734036f"
   },
   "outputs": [
    {
     "name": "stdout",
     "output_type": "stream",
     "text": [
      "Sat Oct 22 11:39:20 2022       \n",
      "+-----------------------------------------------------------------------------+\n",
      "| NVIDIA-SMI 460.32.03    Driver Version: 460.32.03    CUDA Version: 11.2     |\n",
      "|-------------------------------+----------------------+----------------------+\n",
      "| GPU  Name        Persistence-M| Bus-Id        Disp.A | Volatile Uncorr. ECC |\n",
      "| Fan  Temp  Perf  Pwr:Usage/Cap|         Memory-Usage | GPU-Util  Compute M. |\n",
      "|                               |                      |               MIG M. |\n",
      "|===============================+======================+======================|\n",
      "|   0  A100-SXM4-40GB      Off  | 00000000:00:04.0 Off |                    0 |\n",
      "| N/A   28C    P0    43W / 400W |      0MiB / 40536MiB |      0%      Default |\n",
      "|                               |                      |             Disabled |\n",
      "+-------------------------------+----------------------+----------------------+\n",
      "                                                                               \n",
      "+-----------------------------------------------------------------------------+\n",
      "| Processes:                                                                  |\n",
      "|  GPU   GI   CI        PID   Type   Process name                  GPU Memory |\n",
      "|        ID   ID                                                   Usage      |\n",
      "|=============================================================================|\n",
      "|  No running processes found                                                 |\n",
      "+-----------------------------------------------------------------------------+\n"
     ]
    }
   ],
   "source": [
    "gpu_info = !nvidia-smi\n",
    "gpu_info = '\\n'.join(gpu_info)\n",
    "if gpu_info.find('failed') >= 0:\n",
    "  print('Not connected to a GPU')\n",
    "else:\n",
    "  print(gpu_info)"
   ]
  },
  {
   "cell_type": "markdown",
   "metadata": {
    "id": "-OSylXe9FQ6J"
   },
   "source": [
    "##**Set parameters**"
   ]
  },
  {
   "cell_type": "code",
   "execution_count": null,
   "metadata": {
    "id": "HVaSW6lILOdj"
   },
   "outputs": [],
   "source": [
    "nx = ny = 1024 \n",
    "dx = dy = 2.0e-08\n",
    "dt = 5.0e-12 \n",
    "stepmax = 12000 \n",
    "pi = np.pi \n",
    "delta = 4.0 * dx # thickness of diffuse interface\n",
    "gamma = 0.37 # interfacial energy [J/m2]\n",
    "zeta = 0.03 # strength of anisotropy\n",
    "aniso = 4.0 # mode of anisotropy\n",
    "angle0 = 0.25*pi # growth angle\n",
    "T_melt = 1728.0 # melting temperature [K]\n",
    "K = 84.01 # thermal conductivity [W/(mK)]\n",
    "c = 5.42e+06 # heat capacity [J/K]\n",
    "latent = 2.35e+09 # latent heat [J/mol]\n",
    "lamb = 0.1\n",
    "b = 2.0 * np.arctanh(1.0-2.0*lamb)\n",
    "mu = 2.0 # interfacial kinetic coefficient [m/(Ks)]\n",
    "kappa = K / c # thermal diffusion coefficient\n",
    "a0 = np.sqrt(3.0*delta*gamma/b) # gradient energy coefficient\n",
    "www = 6.0 * gamma * b / delta # height of double-well potential\n",
    "pmobi = b * T_melt * mu / (3.0 * delta * latent) # mobility of phase-field \n",
    "T_0 = 1424.5 # temperature [K]"
   ]
  },
  {
   "cell_type": "markdown",
   "metadata": {
    "id": "96PBzr1aFjPE"
   },
   "source": [
    "##**Define arrays in Host (CPU)**"
   ]
  },
  {
   "cell_type": "code",
   "execution_count": null,
   "metadata": {
    "id": "KuwyzZtZLO1J"
   },
   "outputs": [],
   "source": [
    "phi_host = np.zeros((nx,ny)) \n",
    "phi_new_host = np.zeros((nx,ny))\n",
    "temp_host = np.zeros((nx,ny)) \n",
    "temp_new_host = np.zeros((nx,ny))\n",
    "grad_phix_host = np.zeros((nx,ny)) \n",
    "grad_phiy_host = np.zeros((nx,ny))\n",
    "a2_host = np.zeros((nx,ny))\n",
    "lap_temp_host = np.zeros((nx,ny))\n",
    "lap_phi_host = np.zeros((nx,ny))\n",
    "ax_host = np.zeros((nx,ny))\n",
    "ay_host = np.zeros((nx,ny))"
   ]
  },
  {
   "cell_type": "markdown",
   "metadata": {
    "id": "KLgFq4KDF2TQ"
   },
   "source": [
    "## **Set initial distributions**"
   ]
  },
  {
   "cell_type": "code",
   "execution_count": null,
   "metadata": {
    "id": "mFD6pg3bLeUM"
   },
   "outputs": [],
   "source": [
    "r0 = 3.*dx\n",
    "for j in range(ny):\n",
    "    for i in range(nx):\n",
    "        phi_host[i,j] = 0.0\n",
    "        x = dx*(i-nx/2)\n",
    "        y = dy*(j-ny/2)\n",
    "        r = np.sqrt(x*x + y*y)\n",
    "        phi_host[i,j] = 0.5*(1.-np.tanh(np.sqrt(2.*www)/(2.*a0)*(r-r0)))\n",
    "        if phi_host[i,j] <= 1.0e-5:\n",
    "            phi_host[i,j] = 0.0\n",
    "        temp_host[i,j] = T_0 + phi_host[i,j] * (T_melt-T_0)"
   ]
  },
  {
   "cell_type": "markdown",
   "metadata": {
    "id": "8Ek9c0YjFJJ9"
   },
   "source": [
    "## **Define \"Device code\" to calculate gradient of phi and temp and interfacial anisotropy**"
   ]
  },
  {
   "cell_type": "code",
   "execution_count": null,
   "metadata": {
    "id": "N6IcZT1bLQU6"
   },
   "outputs": [],
   "source": [
    "def get_kernel_string1(nx, ny, dx, dy, pi, zeta, a0, aniso, angle0):\n",
    "    return \"\"\" \n",
    "    #include <math.h>\n",
    "    #define nx %d\n",
    "    #define ny %d\n",
    "    #define dx %e\n",
    "    #define dy %e\n",
    "    #define pi  %lf\n",
    "    #define zeta %lf\n",
    "    #define a0 %lf\n",
    "    #define aniso %lf\n",
    "    #define angle0 %lf\n",
    "    __global__ void calcgrad(double *phi, double *temp, double *grad_phix, double *grad_phiy, \n",
    "                              double *lap_phi, double *lap_temp, double *ax, double *ay, double *a2){\n",
    "    \n",
    "        int i = blockIdx.x * block_size_x + threadIdx.x;\n",
    "        int j = blockIdx.y * block_size_y + threadIdx.y;\n",
    "\n",
    "        int ip = i + 1;\n",
    "        int im = i - 1;\n",
    "        int jp = j + 1;\n",
    "        int jm = j - 1;\n",
    "        if(ip > nx-1) {ip = nx - 1;}\n",
    "        if(im < 0) {im = 0;}\n",
    "        if(jp > ny-1) {jp = ny - 1;}\n",
    "        if(jm < 0) {jm = 0;}\n",
    "\n",
    "        grad_phix[j*nx+i] = (phi[j*nx+ip]-phi[j*nx+im])/(2.*dx);\n",
    "        grad_phiy[j*nx+i] = (phi[jp*nx+i]-phi[jm*nx+i])/(2.*dy);\n",
    "        lap_phi[j*nx+i] = (2.*(phi[j*nx+ip]+phi[j*nx+im]+phi[jp*nx+i]+phi[jm*nx+i])+phi[jp*nx+ip]+phi[jm*nx+im]+phi[jp*nx+im]+phi[jm*nx+ip]-12.*phi[j*nx+i])/(3.*dx*dx);\n",
    "        lap_temp[j*nx+i]= (2.*(temp[j*nx+ip]+temp[j*nx+im]+temp[jp*nx+i]+temp[jm*nx+i])+temp[jp*nx+ip]+temp[jm*nx+im]+temp[jp*nx+im]+temp[jm*nx+ip]-12.*temp[j*nx+i])/(3.*dx*dx);\n",
    "\n",
    "        double angle = 0.;\n",
    "        if(grad_phix[j*nx+i] == 0.){\n",
    "            if(grad_phiy[j*nx+i] > 0.){\n",
    "                 angle = 0.5*pi;\n",
    "            } else {\n",
    "                 angle = -0.5*pi;\n",
    "            }\n",
    "        } else if(grad_phix[j*nx+i] > 0.) {\n",
    "            if(grad_phiy[j*nx+i] > 0.){\n",
    "                 angle = atan(grad_phiy[j*nx+i]/grad_phix[j*nx+i]);\n",
    "            }else{\n",
    "                 angle = 2.0*pi + atan(grad_phiy[j*nx+i]/grad_phix[j*nx+i]);\n",
    "            }\n",
    "        } else {\n",
    "            angle = pi + atan(grad_phiy[j*nx+i]/grad_phix[j*nx+i]);\n",
    "        }\n",
    "\n",
    "        double a = a0*(1. + zeta * cos(aniso*(angle-angle0))); \n",
    "        double dadtheta = -a0*aniso*zeta*sin(aniso*(angle-angle0));\n",
    "        ay[j*nx+i] = -a * dadtheta * grad_phiy[j*nx+i];\n",
    "        ax[j*nx+i] =  a * dadtheta * grad_phix[j*nx+i];\n",
    "        a2[j*nx+i] =  a * a;\n",
    "    } \n",
    "    \"\"\" % (nx, ny, dx, dy, pi, zeta, a0, aniso, angle0)\n",
    "\n",
    "kernel_string1 = get_kernel_string1(nx, ny, dx, dy, pi, zeta, a0, aniso, angle0)"
   ]
  },
  {
   "cell_type": "markdown",
   "metadata": {
    "id": "n7Om28h7F9lK"
   },
   "source": [
    "## **Define \"Device code\" to solve time evolution equations**"
   ]
  },
  {
   "cell_type": "code",
   "execution_count": null,
   "metadata": {
    "id": "kssPZwGGLaZh"
   },
   "outputs": [],
   "source": [
    "def get_kernel_string2(nx, ny, dx, dy, latent, T_melt, dt, www, pmobi, kappa, c):\n",
    "    return \"\"\" \n",
    "    #include <math.h>\n",
    "    #define nx %d\n",
    "    #define ny %d\n",
    "    #define dx %e\n",
    "    #define dy %e\n",
    "    #define latent %e\n",
    "    #define T_melt %lf\n",
    "    #define dt %e\n",
    "    #define www %lf\n",
    "    #define pmobi %lf\n",
    "    #define kappa %lf\n",
    "    #define c %e\n",
    "    __global__ void timeevol(double *phi, double *temp, double *phi_new, double *temp_new, double *ax, double *ay, double *a2, \n",
    "                              double *grad_phix, double *grad_phiy, double *lap_phi, double *lap_temp){ \n",
    "\n",
    "        int i = blockIdx.x * block_size_x + threadIdx.x;\n",
    "        int j = blockIdx.y * block_size_y + threadIdx.y;\n",
    "\n",
    "        int ip = i + 1;\n",
    "        int im = i - 1;\n",
    "        int jp = j + 1;\n",
    "        int jm = j - 1;\n",
    "        if(ip > nx-1) {ip = nx - 1;}\n",
    "        if(im < 0) {im = 0;}\n",
    "        if(jp > ny-1) {jp = ny - 1;}\n",
    "        if(jm < 0) {jm = 0;}\n",
    "\n",
    "        double dxdy = (ay[j*nx+ip]-ay[j*nx+im])/(2.*dx);\n",
    "        double dydx = (ax[jp*nx+i]-ax[jm*nx+i])/(2.*dy);\n",
    "        double grad_a2x = (a2[j*nx+ip]-a2[j*nx+im])/(2.*dx);\n",
    "        double grad_a2y = (a2[jp*nx+i]-a2[jm*nx+i])/(2.*dy);\n",
    "        double tet = phi[j*nx+i];\n",
    "        double drive = -latent * (temp[j*nx+i]-T_melt) / T_melt;\n",
    "        double scal = grad_a2x*grad_phix[j*nx+i]+grad_a2y*grad_phiy[j*nx+i];\n",
    "\n",
    "        phi_new[j*nx+i] = phi[j*nx+i] + (dxdy + dydx + a2[j*nx+i]*lap_phi[j*nx+i] + scal + 4.0*www*tet*(1.0-tet)*(tet-0.5+15.0/(2.0*www)*drive*tet*(1.0-tet)))*dt*pmobi; \n",
    "        temp_new[j*nx+i] = temp[j*nx+i] + kappa*lap_temp[j*nx+i]*dt + 30.0*tet*tet*(1.0-tet)*(1.0-tet)*(latent/c)*(phi_new[j*nx+i]-tet);\n",
    "    } \n",
    "    \"\"\" % (nx, ny, dx, dy, latent, T_melt, dt, www, pmobi, kappa, c)\n",
    "\n",
    "kernel_string2 = get_kernel_string2(nx, ny, dx, dy, latent, T_melt, dt, www, pmobi, kappa, c)"
   ]
  },
  {
   "cell_type": "markdown",
   "metadata": {
    "id": "SGydi8nGGSFv"
   },
   "source": [
    "## **Allocate device memory, data transfer, and execute device codes**"
   ]
  },
  {
   "cell_type": "code",
   "execution_count": null,
   "metadata": {
    "colab": {
     "base_uri": "https://localhost:8080/",
     "height": 408
    },
    "executionInfo": {
     "elapsed": 5500,
     "status": "ok",
     "timestamp": 1666438773508,
     "user": {
      "displayName": "Akinori Yamanaka",
      "userId": "04881339994405091902"
     },
     "user_tz": -540
    },
    "id": "BwSkx1EbLcYo",
    "outputId": "05a3d5a9-9c34-4d3c-9be1-3d11f722942f"
   },
   "outputs": [
    {
     "name": "stdout",
     "output_type": "stream",
     "text": [
      "<pycuda._driver.Function object at 0x7f3ac08bf730>\n",
      "It takes 3606.2214374542236 ms\n"
     ]
    },
    {
     "data": {
      "image/png": "[encoded data removed]",
      "text/plain": [
       "<Figure size 864x432 with 4 Axes>"
      ]
     },
     "metadata": {
      "needs_background": "light"
     },
     "output_type": "display_data"
    }
   ],
   "source": [
    "#initialize PyCuda and get compute capability needed for compilation\n",
    "drv.init()\n",
    "context = drv.Device(0).make_context()\n",
    "devprops = { str(k): v for (k, v) in context.get_device().get_attributes().items() }\n",
    "cc = str(devprops['COMPUTE_CAPABILITY_MAJOR']) + str(devprops['COMPUTE_CAPABILITY_MINOR'])\n",
    "\n",
    "#allocate GPU memory\n",
    "phi = drv.mem_alloc(phi_host.nbytes)\n",
    "phi_new = drv.mem_alloc(phi_new_host.nbytes)\n",
    "temp = drv.mem_alloc(temp_host.nbytes)\n",
    "temp_new = drv.mem_alloc(temp_new_host.nbytes)\n",
    "grad_phix = drv.mem_alloc(grad_phix_host.nbytes)\n",
    "grad_phiy = drv.mem_alloc(grad_phiy_host.nbytes)\n",
    "a2 = drv.mem_alloc(a2_host.nbytes)\n",
    "lap_temp = drv.mem_alloc(lap_temp_host.nbytes)\n",
    "lap_phi = drv.mem_alloc(lap_phi_host.nbytes)\n",
    "ax = drv.mem_alloc(ax_host.nbytes)\n",
    "ay = drv.mem_alloc(ay_host.nbytes)\n",
    "\n",
    "#setup thread block dimensions and compile the kernel\n",
    "threads = (16,16,1)\n",
    "grid = (int(nx/16), int(ny/16), 1)\n",
    "\n",
    "block_size_string = \"#define block_size_x 16\\n#define block_size_y 16\\n\"\n",
    "calcgrad = SourceModule(block_size_string+kernel_string1, arch='sm_'+cc).get_function(\"calcgrad\")\n",
    "timeevol = SourceModule(block_size_string+kernel_string2, arch='sm_'+cc).get_function(\"timeevol\")\n",
    "print(calcgrad)\n",
    "\n",
    "#create events for measuring performance\n",
    "start = drv.Event()\n",
    "end = drv.Event()\n",
    "\n",
    "#move the data from the Host (CPU) memory to the Device (GPU) memory\n",
    "drv.memcpy_htod(phi, phi_host)\n",
    "drv.memcpy_htod(temp, temp_host)\n",
    "\n",
    "#call the GPU kernel a 1000 times and measure performance\n",
    "context.synchronize()\n",
    "start.record()\n",
    "start = time()\n",
    "for nstep in range(stepmax):\n",
    "    calcgrad(phi, temp, grad_phix, grad_phiy, lap_phi, lap_temp, ax, ay, a2, block=threads, grid=grid)\n",
    "    timeevol(phi, temp, phi_new, temp_new, ax, ay, a2, grad_phix, grad_phiy, lap_phi, lap_temp, block=threads, grid=grid)\n",
    "    calcgrad(phi_new, temp_new, grad_phix, grad_phiy, lap_phi, lap_temp, ax, ay, a2, block=threads, grid=grid)\n",
    "    timeevol(phi_new, temp_new, phi, temp, ax, ay, a2, grad_phix, grad_phiy, lap_phi, lap_temp, block=threads, grid=grid)\n",
    "\n",
    "end.record()\n",
    "context.synchronize()\n",
    "\n",
    "end = time()\n",
    "print(\"It takes\", (end-start)*1000.0, \"ms\")\n",
    "\n",
    "#copy the result data from the Device (GPU) to the Host (CPU) for plotting\n",
    "phi_result = np.zeros_like(phi_host)\n",
    "temp_result = np.zeros_like(temp_host)\n",
    "drv.memcpy_dtoh(phi_result, phi_new)\n",
    "drv.memcpy_dtoh(temp_result, temp_new)\n",
    "\n",
    "plt.figure(figsize=(12,6))\n",
    "plt.rcParams[\"font.size\"] = 15\n",
    "plt.subplot(121)\n",
    "plt.imshow(phi_result, cmap=\"bwr\")\n",
    "plt.title('Phase-field')\n",
    "plt.colorbar()\n",
    "plt.subplot(122)\n",
    "plt.imshow(temp_result, cmap=\"bwr\")\n",
    "plt.title('Temperature [K]')\n",
    "plt.colorbar()\n",
    "plt.show()"
   ]
  },
  {
   "cell_type": "code",
   "execution_count": null,
   "metadata": {
    "id": "oXF9R_JfGuGo"
   },
   "outputs": [],
   "source": []
  }
 ],
 "metadata": {
  "accelerator": "GPU",
  "colab": {
   "collapsed_sections": [],
   "provenance": []
  },
  "gpuClass": "premium",
  "kernelspec": {
   "display_name": "Python 3",
   "language": "python",
   "name": "python3"
  },
  "language_info": {
   "codemirror_mode": {
    "name": "ipython",
    "version": 3
   },
   "file_extension": ".py",
   "mimetype": "text/x-python",
   "name": "python",
   "nbconvert_exporter": "python",
   "pygments_lexer": "ipython3",
   "version": "3.8.8"
  }
 },
 "nbformat": 4,
 "nbformat_minor": 1
}
