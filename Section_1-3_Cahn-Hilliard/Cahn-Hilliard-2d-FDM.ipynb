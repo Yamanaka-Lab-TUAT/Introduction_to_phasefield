{
 "cells": [
  {
   "cell_type": "code",
   "execution_count": null,
   "metadata": {
    "executionInfo": {
     "elapsed": 9,
     "status": "ok",
     "timestamp": 1666438022704,
     "user": {
      "displayName": "Akinori Yamanaka",
      "userId": "04881339994405091902"
     },
     "user_tz": -540
    },
    "id": "nM1rUxnhuWkv"
   },
   "outputs": [],
   "source": [
    "import numpy as np\n",
    "import matplotlib.pyplot as plt\n",
    "from numba import jit"
   ]
  },
  {
   "cell_type": "code",
   "execution_count": null,
   "metadata": {
    "colab": {
     "base_uri": "https://localhost:8080/",
     "height": 334
    },
    "executionInfo": {
     "elapsed": 366,
     "status": "ok",
     "timestamp": 1666438023062,
     "user": {
      "displayName": "Akinori Yamanaka",
      "userId": "04881339994405091902"
     },
     "user_tz": -540
    },
    "id": "ZmW-B0OwuoH_",
    "outputId": "860367d6-1921-4466-f9ff-48fabd15ed94"
   },
   "outputs": [],
   "source": [
    "nx = ny = 128\n",
    "dx = dy = 1.0\n",
    "total_step = 1000\n",
    "dt = 1.0e-2\n",
    "A = 2.0\n",
    "mobility = 1.0\n",
    "grad_coef = 1.0\n",
    "c0 = 0.5\n",
    "\n",
    "fig = plt.figure(figsize=(5,5))\n",
    "cc = np.linspace(0.01, 0.99, 100);\n",
    "plt.plot(cc, cc**2*(1.-cc)**2 ,color='black')\n",
    "plt.plot(c0, c0**2*(1.-c0)**2 ,color='r',marker='o',markersize=10)\n",
    "plt.xlabel('Concentration c [at. frac]')\n",
    "plt.ylabel('Chemical free energy density')\n",
    "plt.show()"
   ]
  },
  {
   "cell_type": "code",
   "execution_count": null,
   "metadata": {
    "colab": {
     "base_uri": "https://localhost:8080/",
     "height": 281
    },
    "executionInfo": {
     "elapsed": 620,
     "status": "ok",
     "timestamp": 1666438023679,
     "user": {
      "displayName": "Akinori Yamanaka",
      "userId": "04881339994405091902"
     },
     "user_tz": -540
    },
    "id": "ZsRQ8VPRu4Gb",
    "outputId": "2e8bc829-dd44-4b2e-8896-280c6fe2aae0"
   },
   "outputs": [],
   "source": [
    "con = np.zeros([nx, ny])\n",
    "con_new = np.zeros([nx, ny])\n",
    "\n",
    "con = c0 + 0.01 * (0.5 - np.random.rand(nx, ny))\n",
    "plt.imshow(con, cmap='bwr')\n",
    "plt.title('initial concentration')\n",
    "plt.colorbar()\n",
    "plt.show() "
   ]
  },
  {
   "cell_type": "code",
   "execution_count": null,
   "metadata": {
    "executionInfo": {
     "elapsed": 19,
     "status": "ok",
     "timestamp": 1666438023679,
     "user": {
      "displayName": "Akinori Yamanaka",
      "userId": "04881339994405091902"
     },
     "user_tz": -540
    },
    "id": "e3UHIU-YvCTY"
   },
   "outputs": [],
   "source": [
    "@jit(nopython=True)\n",
    "def update(con, con_new):\n",
    "  for j in range(ny):\n",
    "    for i in range(nx):\n",
    "      \n",
    "      ip = i + 1\n",
    "      im = i - 1\n",
    "      jp = j + 1\n",
    "      jm = j - 1\n",
    "      ipp = i + 2\n",
    "      imm = i - 2\n",
    "      jpp = j + 2\n",
    "      jmm = j - 2\n",
    "\n",
    "      if ip > nx-1:\n",
    "        ip = ip - nx\n",
    "      if im < 0:\n",
    "        im = im + nx\n",
    "      if jp > ny-1:\n",
    "        jp = jp - ny\n",
    "      if jm < 0:\n",
    "        jm = jm + ny\n",
    "      if ipp > nx-1:\n",
    "        ipp = ipp - nx\n",
    "      if imm < 0:\n",
    "        imm = imm + nx\n",
    "      if jpp > ny-1:\n",
    "        jpp = jpp - ny\n",
    "      if jmm < 0:\n",
    "        jmm = jmm + ny\n",
    "      \n",
    "      cc = con[i,j] # at (i,j) \"centeral point\"\n",
    "      ce = con[ip,j] # at (i+1.j) \"eastern point\"\n",
    "      cw = con[im,j] # at (i-1,j) \"western point\"\n",
    "      cs = con[i,jm] # at (i,j-1) \"southern point\"\n",
    "      cn = con[i,jp] # at (i,j+1) \"northern point\"\n",
    "      cse = con[ip,jm] # at (i+1, j-1)\n",
    "      cne = con[ip,jp]\n",
    "      csw = con[im,jm]\n",
    "      cnw = con[im,jp]\n",
    "      cee = con[ipp,j]  # at (i+2, j)\n",
    "      cww = con[imm,j]\n",
    "      css = con[i,jmm]\n",
    "      cnn = con[i,jpp]\n",
    "      \n",
    "      mu_chem_c = 2.*A*cc*(1.-cc)**2 - 2.*A*cc**2*(1.-cc) # chemical term of the diffusion potential\n",
    "      mu_chem_w = 2.*A*cw*(1.-cw)**2 - 2.*A*cw**2*(1.-cw)  \n",
    "      mu_chem_e = 2.*A*ce*(1.-ce)**2 - 2.*A*ce**2*(1.-ce) \n",
    "      mu_chem_n = 2.*A*cn*(1.-cn)**2 - 2.*A*cn**2*(1.-cn) \n",
    "      mu_chem_s = 2.*A*cs*(1.-cs)**2 - 2.*A*cs**2*(1.-cs)  \n",
    "      \n",
    "      mu_grad_c = -grad_coef*( (ce - 2.0*cc + cw)/dx/dx + (cn  - 2.0*cc + cs)/dy/dy) # gradient term of the diffusion potential\n",
    "      mu_grad_w = -grad_coef*( (cc - 2.0*cw + cww)/dx/dx + (cnw - 2.0*cw + csw)/dy/dy)\n",
    "      mu_grad_e = -grad_coef*( (cee - 2.0*ce + cc)/dx/dx + (cne - 2.0*ce + cse)/dy/dy)  \n",
    "      mu_grad_n = -grad_coef*( (cne - 2.0*cn + cnw)/dx/dx + (cnn - 2.0*cn + cc)/dy/dy) \n",
    "      mu_grad_s = -grad_coef*( (cse - 2.0*cs + csw)/dx/dx + (cc  - 2.0*cs + css)/dy/dy)\n",
    "      \n",
    "      mu_c = mu_chem_c + mu_grad_c # total diffusion potental\n",
    "      mu_w = mu_chem_w + mu_grad_w \n",
    "      mu_e = mu_chem_e + mu_grad_e \n",
    "      mu_n = mu_chem_n + mu_grad_n \n",
    "      mu_s = mu_chem_s + mu_grad_s\n",
    "      \n",
    "      laplace_mu = (mu_w - 2.0*mu_c + mu_e)/dx/dx + (mu_n - 2.0 *mu_c + mu_s)/dy/dy\n",
    "      con_new[i,j] = con[i,j] + mobility*laplace_mu*dt  "
   ]
  },
  {
   "cell_type": "code",
   "execution_count": null,
   "metadata": {
    "colab": {
     "base_uri": "https://localhost:8080/",
     "height": 299
    },
    "executionInfo": {
     "elapsed": 62483,
     "status": "ok",
     "timestamp": 1666438086144,
     "user": {
      "displayName": "Akinori Yamanaka",
      "userId": "04881339994405091902"
     },
     "user_tz": -540
    },
    "id": "VmYAeWUxgZTP",
    "outputId": "9c8ef00f-6335-4c08-c3b4-88c3789b0001",
    "scrolled": false
   },
   "outputs": [],
   "source": [
    "for nstep in range(total_step):\n",
    "    update(con, con_new)\n",
    "    con[:,:] = con_new[:,:] # swap c at time t and c at time t+dt\n",
    "    \n",
    "    if nstep % 100 == 0:\n",
    "        print('nstep = ', nstep)\n",
    "        print('Maximum concentration = ', np.max(con))\n",
    "        print('Minimum concentration = ', np.min(con))\n",
    "        plt.imshow(con, cmap='bwr')\n",
    "        plt.title('concentration of B atom')\n",
    "        plt.colorbar()\n",
    "        plt.show() "
   ]
  },
  {
   "cell_type": "code",
   "execution_count": null,
   "metadata": {
    "executionInfo": {
     "elapsed": 20,
     "status": "ok",
     "timestamp": 1666438086144,
     "user": {
      "displayName": "Akinori Yamanaka",
      "userId": "04881339994405091902"
     },
     "user_tz": -540
    },
    "id": "EOPhZQ9_m5LY"
   },
   "outputs": [],
   "source": []
  }
 ],
 "metadata": {
  "colab": {
   "collapsed_sections": [],
   "provenance": []
  },
  "kernelspec": {
   "display_name": "Python 3",
   "language": "python",
   "name": "python3"
  },
  "language_info": {
   "codemirror_mode": {
    "name": "ipython",
    "version": 3
   },
   "file_extension": ".py",
   "mimetype": "text/x-python",
   "name": "python",
   "nbconvert_exporter": "python",
   "pygments_lexer": "ipython3",
   "version": "3.8.8"
  }
 },
 "nbformat": 4,
 "nbformat_minor": 1
}
