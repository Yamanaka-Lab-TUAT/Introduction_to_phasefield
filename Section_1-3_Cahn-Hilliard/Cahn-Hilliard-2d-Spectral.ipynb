{
 "cells": [
  {
   "cell_type": "code",
   "execution_count": null,
   "metadata": {
    "id": "hCb8t76LFN_o"
   },
   "outputs": [],
   "source": [
    "import numpy as np\n",
    "import matplotlib.pyplot as plt"
   ]
  },
  {
   "cell_type": "code",
   "execution_count": null,
   "metadata": {
    "colab": {
     "base_uri": "https://localhost:8080/",
     "height": 334
    },
    "executionInfo": {
     "elapsed": 15,
     "status": "ok",
     "timestamp": 1666793562241,
     "user": {
      "displayName": "Akinori Yamanaka",
      "userId": "04881339994405091902"
     },
     "user_tz": -540
    },
    "id": "gqiQDxIXXrfc",
    "outputId": "88d3206f-a6cc-429e-85ec-9612a3ae1813"
   },
   "outputs": [],
   "source": [
    "nx = ny = 128\n",
    "dx = dy = 1.0\n",
    "total_step = 1000\n",
    "dt = 1.0e-2\n",
    "A = 2.0\n",
    "mobility = 1.0\n",
    "grad_coef = 1.0\n",
    "c0 = 0.5\n",
    "\n",
    "fig = plt.figure(figsize=(5,5))\n",
    "cc = np.linspace(0.01, 0.99, 100);\n",
    "plt.plot(cc, cc**2*(1.-cc)**2 ,color='black')\n",
    "plt.plot(c0, c0**2*(1.-c0)**2 ,color='r',marker='o',markersize=10)\n",
    "plt.xlabel('Concentration c')\n",
    "plt.ylabel('Chemical free energy density')\n",
    "plt.show()"
   ]
  },
  {
   "cell_type": "code",
   "execution_count": null,
   "metadata": {
    "id": "TviwH4MHYn-f"
   },
   "outputs": [],
   "source": [
    "con = np.zeros([nx, ny]) # concentration\n",
    "dfdcon = np.zeros([nx, ny]) # chemical part of diffusion potential"
   ]
  },
  {
   "cell_type": "code",
   "execution_count": null,
   "metadata": {
    "id": "F5htgiCWPpXB"
   },
   "outputs": [],
   "source": [
    "con = c0 + 0.01 * (0.5 - np.random.rand(nx, ny))\n",
    "plt.imshow(con, cmap='bwr')\n",
    "plt.title('initial concentration')\n",
    "plt.colorbar()\n",
    "plt.show() "
   ]
  },
  {
   "cell_type": "code",
   "execution_count": null,
   "metadata": {
    "id": "Yd5keFoVPWmh"
   },
   "outputs": [],
   "source": [
    "def calc_wave_vector(nx, ny, dx, dy):\n",
    "\tnx21 = int(nx/2 + 1)\n",
    "\tny21 = int(ny/2 + 1)\n",
    "\tnx2 = nx + 2\n",
    "\tny2 = ny + 2\n",
    "\tdkx = (2.0 * np.pi) / (nx * dx)\n",
    "\tdky = (2.0 * np.pi) / (ny * dy)\n",
    "\tkx = np.zeros([nx, ny])\n",
    "\tky = np.zeros([nx, ny])\n",
    "\tk2 = np.zeros([nx, ny])\n",
    "\tk4 = np.zeros([nx, ny])\n",
    "\n",
    "\tfor i in range(1, nx21):\n",
    "\t\tfor j in range(1, ny):\n",
    "\t\t\tfk1 = (i - 1) * dkx\n",
    "\t\t\tkx[i, :] = fk1\n",
    "\t\t\tkx[nx - i, :] = -fk1\n",
    "\tfor i in range(1, nx):\n",
    "\t\tfor j in range(1, ny21):\n",
    "\t\t\tfk2 = (j - 1) * dky\n",
    "\t\t\tky[:, j] = fk2\n",
    "\t\t\tky[:, ny - j] = -fk2\n",
    "\n",
    "\tk2[:, :] = kx[:, :]**2 + ky[:, :]**2\n",
    "\treturn k2\n",
    "\n",
    "k2 = calc_wave_vector(nx, ny, dx, dy)\n",
    "k4 = k2 **2"
   ]
  },
  {
   "cell_type": "code",
   "execution_count": null,
   "metadata": {
    "colab": {
     "base_uri": "https://localhost:8080/",
     "height": 299
    },
    "executionInfo": {
     "elapsed": 24867,
     "status": "ok",
     "timestamp": 1666793588343,
     "user": {
      "displayName": "Akinori Yamanaka",
      "userId": "04881339994405091902"
     },
     "user_tz": -540
    },
    "id": "yKMjiqxyPvqh",
    "outputId": "a4d4e753-6dc8-483c-d8c5-f80190fac211",
    "scrolled": false
   },
   "outputs": [],
   "source": [
    "for istep in range(total_step+1):\n",
    "    conk = np.fft.fftn(con) # Fourier transform c_t\n",
    "    dfdcon = (2.0 * con * (1 - con)**2 -2.0 * con**2 * (1 - con)) # Chemical part of diffusion potential\n",
    "    dfdconk = np.fft.fftn(dfdcon)  # Fourier transform of the chemical part\n",
    "    nummer = dt * mobility * A * k2 * dfdconk\n",
    "    denom = 1.0 + dt * mobility * grad_coef * k4\n",
    "    conk = (conk - nummer) / denom # Updated concentration c_t+dt in Fourier space\n",
    "    con = np.real(np.fft.ifftn(conk)) # Inverse Fourier transform of c_t+dt\n",
    "    \n",
    "    if istep % 100 == 0:\n",
    "        print('nstep = ', istep)\n",
    "        print('Maximum concentration = ', np.max(con))\n",
    "        print('Minimum concentration = ', np.min(con))\n",
    "        plt.imshow(con, cmap='bwr')\n",
    "        plt.title('concentration of B atom')\n",
    "        plt.colorbar()\n",
    "        plt.show() "
   ]
  },
  {
   "cell_type": "code",
   "execution_count": null,
   "metadata": {
    "id": "LJkUC2BqQHRo"
   },
   "outputs": [],
   "source": []
  }
 ],
 "metadata": {
  "colab": {
   "collapsed_sections": [],
   "provenance": []
  },
  "kernelspec": {
   "display_name": "Python 3",
   "language": "python",
   "name": "python3"
  },
  "language_info": {
   "codemirror_mode": {
    "name": "ipython",
    "version": 3
   },
   "file_extension": ".py",
   "mimetype": "text/x-python",
   "name": "python",
   "nbconvert_exporter": "python",
   "pygments_lexer": "ipython3",
   "version": "3.8.8"
  }
 },
 "nbformat": 4,
 "nbformat_minor": 1
}
