{
 "cells": [
  {
   "cell_type": "code",
   "execution_count": null,
   "metadata": {
    "colab": {
     "base_uri": "https://localhost:8080/"
    },
    "executionInfo": {
     "elapsed": 4588,
     "status": "ok",
     "timestamp": 1660563778413,
     "user": {
      "displayName": "Akinori YAMANAKA",
      "userId": "13314989427460547249"
     },
     "user_tz": -540
    },
    "id": "wCFAobWE5iJo",
    "outputId": "e79691de-5450-4abc-d1f4-abb82cb1e1fc"
   },
   "outputs": [],
   "source": [
    "!pip3 install numba\n",
    "from numba import jit\n",
    "import numpy as np\n",
    "from numpy.random import *\n",
    "import matplotlib.pyplot as plt"
   ]
  },
  {
   "cell_type": "code",
   "execution_count": null,
   "metadata": {
    "executionInfo": {
     "elapsed": 6,
     "status": "ok",
     "timestamp": 1660563780480,
     "user": {
      "displayName": "Akinori YAMANAKA",
      "userId": "13314989427460547249"
     },
     "user_tz": -540
    },
    "id": "M-p6Q4yc6mcd"
   },
   "outputs": [],
   "source": [
    "nx = 500 # 差分格子点数\n",
    "ny = nx\n",
    "nsteps = 3000\n",
    "nout = 100\n",
    "dt = 3.0e-7\n",
    "dx = 4.0e-8\n",
    "dy = dx\n",
    "pi = 3.141592\n",
    "lheat_A = 2.350e+9 # latent heat of Ni [J/m3]\n",
    "lheat_B = 1.728e+9\n",
    "Tm_A = 1728.0 # melting temperature of Ni [K]\n",
    "Tm_B = 1358.0\n",
    "gamma_A = 0.37 # interfacial energy [J/m2]\n",
    "gamma_B = 0.29\n",
    "kinetic_A = 0.0033 # kinetic coefficient [m/K/s]\n",
    "kinetic_B = 0.0039\n",
    "D_L = 1.0e-9 # diffusion coefficient in liquid [m2/s]\n",
    "D_S = 1.0e-13\n",
    "vmol = 7.4e-6\n",
    "rgas = 8.31451\n",
    "ani_mode = 4. # mode number of interfacial anisotropy\n",
    "ani_str = 0.04 # strength of interfacial anisotropy\n",
    "mag_noise = 0.1 # magnitude of noise\n",
    "thet0 = 0.*pi/180.\n",
    "init_con = 0.4083 # initial concentration in liquid\n",
    "init_temp = 1574. # initial temperature [K]\n",
    "delta = 6.0*dx # interfacial thickness [m]\n",
    "lamda = 0.1\n",
    "bbb = 2.*np.log((1.+(1.-2.*lamda))/(1.-(1.-2.*lamda)))/2.\n",
    "tinb = gamma_A/gamma_B*Tm_B/Tm_A*delta\n",
    "eps = np.sqrt(3.*delta*gamma_A/(bbb*Tm_A)) # gradient energy coefficient\n",
    "W_A = 6.*gamma_A*bbb/(delta*Tm_A) # double-well potential height\n",
    "W_B = 6.*gamma_B*bbb/(tinb*Tm_B)\n",
    "M_A = bbb*Tm_A*Tm_A*kinetic_A/(3.*delta*lheat_A) # mobility of phase-field\n",
    "M_B = bbb*Tm_B*Tm_B*kinetic_B/(3.*tinb*lheat_B)"
   ]
  },
  {
   "cell_type": "code",
   "execution_count": null,
   "metadata": {
    "executionInfo": {
     "elapsed": 1004,
     "status": "ok",
     "timestamp": 1660563785957,
     "user": {
      "displayName": "Akinori YAMANAKA",
      "userId": "13314989427460547249"
     },
     "user_tz": -540
    },
    "id": "uoOgP1_-6p7z"
   },
   "outputs": [],
   "source": [
    "p_t = np.zeros((nx,ny)) \n",
    "p_tdt = np.zeros((nx,ny)) \n",
    "c_t = np.zeros((nx,ny)) \n",
    "c_tdt = np.zeros((nx,ny)) \n",
    "dpx = np.zeros((4,nx,ny))\n",
    "dpy = np.zeros((4,nx,ny))\n",
    "dcx = np.zeros((4,nx,ny))\n",
    "dcy = np.zeros((4,nx,ny))"
   ]
  },
  {
   "cell_type": "code",
   "execution_count": null,
   "metadata": {
    "colab": {
     "base_uri": "https://localhost:8080/",
     "height": 281
    },
    "executionInfo": {
     "elapsed": 2055,
     "status": "ok",
     "timestamp": 1660563850707,
     "user": {
      "displayName": "Akinori YAMANAKA",
      "userId": "13314989427460547249"
     },
     "user_tz": -540
    },
    "id": "HNRLNHx_6sTS",
    "outputId": "5a879787-813a-4649-f830-6a884c07dfd9"
   },
   "outputs": [],
   "source": [
    "r0 = 6.*dx\n",
    "for i in range(0,nx):\n",
    "    for j in range(0,ny):\n",
    "        c_t[i,j] = init_con\n",
    "        p_t[i,j] = 0.0\n",
    "        x = dx*(i-nx/2)\n",
    "        y = dy*(j-ny/2)\n",
    "        r = np.sqrt(x*x + y*y)\n",
    "        p_t[i,j] = 0.5*(1.-np.tanh(np.sqrt(2.*W_A)/(2.*eps)*(r-r0)))\n",
    "        if p_t[i,j] <= 1.0e-5:\n",
    "            p_t[i,j] = 0.0\n",
    "\n",
    "plt.imshow(p_t, cmap='binary')\n",
    "plt.title('initial phase-field variable')\n",
    "plt.colorbar()\n",
    "plt.show()"
   ]
  },
  {
   "cell_type": "code",
   "execution_count": null,
   "metadata": {
    "executionInfo": {
     "elapsed": 444,
     "status": "ok",
     "timestamp": 1660563867500,
     "user": {
      "displayName": "Akinori YAMANAKA",
      "userId": "13314989427460547249"
     },
     "user_tz": -540
    },
    "id": "34ppNpFF2TW1"
   },
   "outputs": [],
   "source": [
    "@jit\n",
    "def  calc_gradient(o_t,dox,doy):\n",
    "    for i in range(nx):\n",
    "        for j in range(ny):\n",
    "            ip = i + 1\n",
    "            im = i - 1\n",
    "            jp = j + 1\n",
    "            jm = j - 1\n",
    "            if ip > nx-1:\n",
    "                ip = nx-1\n",
    "            if im < 0:\n",
    "                im = 0\n",
    "            if jp > ny-1:\n",
    "                jp = ny-1\n",
    "            if jm < 0:\n",
    "                jm = 0  \n",
    "            dox[0,i,j]=(o_t[ip,j ]-o_t[i ,j ])/dx\n",
    "            dox[1,i,j]=(o_t[i ,j ]-o_t[im,j ])/dx\n",
    "            dox[2,i,j]=(o_t[ip,j ]+o_t[ip,jp]-o_t[im,j ]-o_t[im,jp])/(4.*dx)\n",
    "            dox[3,i,j]=(o_t[ip,j ]+o_t[ip,jm]-o_t[im,j ]-o_t[im,jm])/(4.*dx)\n",
    "            doy[0,i,j]=(o_t[i ,jp]+o_t[ip,jp]-o_t[i ,jm]-o_t[ip,jm])/(4.*dy)\n",
    "            doy[1,i,j]=(o_t[i ,jp]+o_t[im,jp]-o_t[i ,jm]-o_t[im,jm])/(4.*dy)\n",
    "            doy[2,i,j]=(o_t[i ,jp]-o_t[i ,j ])/dy\n",
    "            doy[3,i,j]=(o_t[i ,j ]-o_t[i ,jm])/dy"
   ]
  },
  {
   "cell_type": "code",
   "execution_count": null,
   "metadata": {
    "executionInfo": {
     "elapsed": 292,
     "status": "ok",
     "timestamp": 1660563874011,
     "user": {
      "displayName": "Akinori YAMANAKA",
      "userId": "13314989427460547249"
     },
     "user_tz": -540
    },
    "id": "-NfmBGjU6yuJ"
   },
   "outputs": [],
   "source": [
    "@jit\n",
    "def solve_allen_cahn(p_t, c_t, dpx, dpy, p_tdt):\n",
    "    for i in range(0,nx):\n",
    "        for j in range(0,ny):\n",
    "\n",
    "            phi = p_t[i,j]\n",
    "            con = c_t[i,j]\n",
    "            q_phi   = phi*phi*(1.-phi)*(1.-phi)\n",
    "            dq_phi  = 30.*q_phi\n",
    "            ddouble_A = W_A*2.*phi*(1.-phi)*(1.-2.*phi)\n",
    "            ddouble_B = W_B*2.*phi*(1.-phi)*(1.-2.*phi)\n",
    "            H_A  = ddouble_A+dq_phi*lheat_A*(init_temp-Tm_A)/(init_temp*Tm_A)\n",
    "            H_B  = ddouble_B+dq_phi*lheat_B*(init_temp-Tm_B)/(init_temp*Tm_B)\n",
    "\n",
    "            epss = np.zeros((4))\n",
    "            epsd = np.zeros((4))\n",
    "            for k in range(4):\n",
    "                ddpx=dpx[k,i,j]\n",
    "                ddpy=dpy[k,i,j]\n",
    "                ddp_t=np.sqrt(ddpx**2+ddpy**2)\n",
    "                if ddpx == 0. and ddpy == 0. :\n",
    "                    thet=0. \n",
    "                else:\n",
    "                    tcos=-ddpx/ddp_t\n",
    "                    tsin=-ddpy/ddp_t\n",
    "                    if tsin >= 0.:\n",
    "                        thet=np.arccos(tcos)\n",
    "                    if tsin <= 0.:\n",
    "                        thet=2.*pi-np.arccos(tcos)\n",
    "                    if ddpx == 0. and -ddpy > 0.:\n",
    "                        thet=pi/2.\n",
    "                    if ddpx == 0. and -ddpy < 0.:\n",
    "                        thet=3.*pi/2.\n",
    "                    if ddpy == 0. and -ddpx > 0.:\n",
    "                        thet=0.\n",
    "                    if ddpy == 0. and -ddpx < 0.:\n",
    "                        thet=pi\n",
    "                epss[k]=eps*(1.+ani_str*np.cos(ani_mode*(thet-thet0)))\n",
    "                epsd[k]=-ani_mode*eps*ani_str*np.sin(ani_mode*(thet-thet0))\n",
    "\n",
    "            eepy1 = epss[0]*epsd[0]*dpy[0,i,j]\n",
    "            eepy2 = epss[1]*epsd[1]*dpy[1,i,j]\n",
    "            eepx1 = epss[2]*epsd[2]*dpx[2,i,j]\n",
    "            eepx2 = epss[3]*epsd[3]*dpx[3,i,j]\n",
    "            eppx1 = epss[0]*epss[0]*dpx[0,i,j]\n",
    "            eppx2 = epss[1]*epss[1]*dpx[1,i,j]\n",
    "            eppy1 = epss[2]*epss[2]*dpy[2,i,j]\n",
    "            eppy2 = epss[3]*epss[3]*dpy[3,i,j]\n",
    "\n",
    "            ag = mag_noise*np.random.rand(1)\n",
    "            mobi = (1.-con)*M_A + con*M_B\n",
    "            dpt = mobi*(-(eepy1-eepy2)/dx+(eepx1-eepx2)/dy + (eppx1-eppx2)/dx+(eppy1-eppy2)/dy - (1.-16.*ag[0]*q_phi)*((1.-con)*H_A+con*H_B))\n",
    "            p_tdt[i,j] = phi + dpt*dt\n",
    "            if p_tdt[i,j] <= 1.0e-20:\n",
    "                p_tdt[i,j]=0."
   ]
  },
  {
   "cell_type": "code",
   "execution_count": null,
   "metadata": {
    "executionInfo": {
     "elapsed": 325,
     "status": "ok",
     "timestamp": 1660563877558,
     "user": {
      "displayName": "Akinori YAMANAKA",
      "userId": "13314989427460547249"
     },
     "user_tz": -540
    },
    "id": "LbSc2-Sn6zMs"
   },
   "outputs": [],
   "source": [
    "@jit\n",
    "def solve_cahn_hilliard(p_t, c_t, dpx, dpy, dcx, dcy, c_tdt):\n",
    "    for i in range(0,nx):\n",
    "        for j in range(0,ny):\n",
    "            ip = i + 1\n",
    "            im = i - 1\n",
    "            jp = j + 1\n",
    "            jm = j - 1\n",
    "            if ip > nx-1:\n",
    "                ip = nx-1\n",
    "            if im < 0:\n",
    "                im = 0\n",
    "            if jp > ny-1:\n",
    "                jp = ny-1\n",
    "            if jm < 0:\n",
    "                jm = 0\n",
    "\n",
    "            Dp = np.zeros((4))\n",
    "            Dc = np.zeros((4))\n",
    "            for k in range(4):\n",
    "                if k == 0:\n",
    "                    pij = (p_t[ip,j ]+p_t[i,j])/2.\n",
    "                    cij = (c_t[ip,j ]+c_t[i,j])/2.\n",
    "                if k == 1:\n",
    "                    pij = (p_t[im,j ]+p_t[i,j])/2.\n",
    "                    cij = (c_t[im,j ]+c_t[i,j])/2.\n",
    "                if k == 2:\n",
    "                    pij = (p_t[i,jp]+p_t[i,j])/2.\n",
    "                    cij = (c_t[i,jp]+c_t[i,j])/2.\n",
    "                if k == 3:\n",
    "                    pij = (p_t[i,jm]+p_t[i,j])/2.\n",
    "                    cij = (c_t[i,jm]+c_t[i,j])/2.\n",
    "                p_phi = pij*pij*pij*(10.-15.*pij+6.*pij*pij)\n",
    "                q_phi = pij*pij*(1.-pij)*(1.-pij)\n",
    "                dq_phi = 30.*q_phi\n",
    "                ddouble_A= W_A*2.*pij*(1.-pij)*(1.-2.*pij)\n",
    "                ddouble_B= W_B*2.*pij*(1.-pij)*(1.-2.*pij)\n",
    "                H_A = ddouble_A+dq_phi*lheat_A*(init_temp-Tm_A)/(init_temp*Tm_A)\n",
    "                H_B = ddouble_B+dq_phi*lheat_B*(init_temp-Tm_B)/(init_temp*Tm_B)\n",
    "                Dc[k] = D_L+p_phi*(D_S-D_L)\n",
    "                Dp[k] = Dc[k]*cij*(1.-cij)*vmol/rgas*(H_A-H_B)\n",
    "\n",
    "            dca1=Dp[0]*dpx[0,i,j]-Dc[0]*dcx[0,i,j]\n",
    "            dca2=Dp[1]*dpx[1,i,j]-Dc[1]*dcx[1,i,j]\n",
    "            dcb1=Dp[2]*dpy[2,i,j]-Dc[2]*dcy[2,i,j]\n",
    "            dcb2=Dp[3]*dpy[3,i,j]-Dc[3]*dcy[3,i,j]\n",
    "\n",
    "            dcc=-((dca1-dca2)/dx+(dcb1-dcb2)/dy)\n",
    "            c_tdt[i,j] = c_t[i,j] + dcc*dt"
   ]
  },
  {
   "cell_type": "code",
   "execution_count": null,
   "metadata": {
    "colab": {
     "base_uri": "https://localhost:8080/",
     "height": 1000
    },
    "executionInfo": {
     "elapsed": 682295,
     "status": "ok",
     "timestamp": 1660564563091,
     "user": {
      "displayName": "Akinori YAMANAKA",
      "userId": "13314989427460547249"
     },
     "user_tz": -540
    },
    "id": "WN52bGQ_61k6",
    "outputId": "76b67bc7-734d-4570-cc83-287eed5ca2d2"
   },
   "outputs": [],
   "source": [
    "for nstep in range(nsteps+1):\n",
    "    calc_gradient(p_t,dpx,dpy)\n",
    "    solve_allen_cahn(p_t, c_t, dpx, dpy, p_tdt)\n",
    "    calc_gradient(c_t,dcx,dcy)\n",
    "    solve_cahn_hilliard(p_t, c_t, dpx, dpy, dcx, dcy, c_tdt)\n",
    "    p_t[:,:] = p_tdt[:,:]\n",
    "    c_t[:,:] = c_tdt[:,:]\n",
    "\n",
    "    if nstep % nout == 0:\n",
    "        print('nstep = ', nstep)\n",
    "        fig = plt.figure(figsize=(8,4))\n",
    "        fig.set_dpi(100)\n",
    "        plt.subplot(1,2,1)\n",
    "        plt.imshow(p_t, cmap='binary')\n",
    "        plt.title('phase-field')\n",
    "        plt.colorbar()\n",
    "        plt.subplot(1,2,2)\n",
    "        plt.imshow(c_t,cmap='binary')\n",
    "        plt.title('concentration')\n",
    "        plt.colorbar()\n",
    "        plt.show()"
   ]
  }
 ],
 "metadata": {
  "colab": {
   "authorship_tag": "ABX9TyPz59THHSS8AI+0QGrGAQhO",
   "collapsed_sections": [],
   "name": "Binary_alloy_solidification_equation.ipynb",
   "provenance": [
    {
     "file_id": "13gc7x4rpOdvmpRK1edPzTIQUvIL3M0Yt",
     "timestamp": 1659832169074
    }
   ]
  },
  "kernelspec": {
   "display_name": "Python 3 (ipykernel)",
   "language": "python",
   "name": "python3"
  },
  "language_info": {
   "codemirror_mode": {
    "name": "ipython",
    "version": 3
   },
   "file_extension": ".py",
   "mimetype": "text/x-python",
   "name": "python",
   "nbconvert_exporter": "python",
   "pygments_lexer": "ipython3",
   "version": "3.12.0"
  }
 },
 "nbformat": 4,
 "nbformat_minor": 4
}
