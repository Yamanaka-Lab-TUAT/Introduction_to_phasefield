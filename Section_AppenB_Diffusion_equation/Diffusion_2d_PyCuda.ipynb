{
 "cells": [
  {
   "cell_type": "markdown",
   "metadata": {
    "id": "wV8wcU6_t5rU"
   },
   "source": [
    "## Two-dimensional diffusion equation\n",
    "This python code was developed by Yamanaka research group of Tokyo University of Agriculture and Technology in August 2019."
   ]
  },
  {
   "cell_type": "markdown",
   "metadata": {
    "id": "_zn0vqgIt5ra"
   },
   "source": [
    "## Problem\n",
    "Let us consider an example problem: diffusion of a concentration-field $c(r, t)$ with a constant diffusion coefficient $D$. \n",
    "Here, $r$ denotes a two-dimensional coordinate point: $r = (x, y)$. $t$ represents time.  \n",
    "\n",
    "## Diffusion equation\n",
    "This notebook shows a two-dimensional diffusion simulation using the diffusion equation (see <a href=\"https://en.wikipedia.org/wiki/Diffusion_equation\">Wikipedia</a>) given as:\n",
    "$$\n",
    "\\frac{\\partial c}{\\partial t} = -Div \\boldsymbol{J} = -\\nabla \\cdot \\boldsymbol{J} = \\nabla \\cdot \\left(D \\nabla c\\right)\n",
    "$$\n",
    "where $\\boldsymbol{J} = -D \\nabla c$ is a diffusion flux of the concentration which is derived by the Fick's first law. \n",
    "\n",
    "When the diffusion coefficient $D$ is constant, the diffusion equation can be written as: \n",
    "$$\n",
    "\\frac{\\partial c}{\\partial t} = D \\nabla^{2} c = D \\left( \\frac{\\partial^{2} c}{\\partial x^{2}} + \\frac{\\partial^{2} c}{\\partial y^{2}} \\right)\n",
    "$$\n",
    "\n",
    "## Finite difference method\n",
    "The diffusion equation is numerically solved by finite difference method (see  <a href=\"https://en.wikipedia.org/wiki/Finite_difference_method\">Wikipedia</a>). In this code, let us consider two-dimensional regular finite difference grids with a constant spacing of the grids $\\Delta x = \\Delta y$.\n",
    "\n",
    "The time integration for the left-hand side of the diffusion equation is calculated by the forward Euler method: \n",
    "$$\n",
    "\\frac{\\partial c}{\\partial t} \\simeq \\frac{c_{i,j}^{t+\\Delta t} - c_{i,j}^{t}}{\\Delta t}\n",
    "$$\n",
    "where $c_{i,j}^{t}$ denotes the concentation $c$ at a finite difference grid $(i, j)$ and time $t$. $\\Delta t$ is a time increment. \n",
    "\n",
    "The second derivative of the concentration $c$ with respect to $x$ and $y$ for the right-hand side of the diffusion equation is calculated by the 2nd-order central finite difference method: \n",
    "$$\n",
    "\\frac{\\partial^{2} c}{\\partial x^{2}} \\simeq \\frac{c_{i+1,j}^{t} - 2c_{i,j}^{t} +c_{i-1,j}^{t}}{(\\Delta x)^{2}}\n",
    "$$\n",
    "$$\n",
    "\\frac{\\partial^{2} c}{\\partial y^{2}} \\simeq \\frac{c_{i,j+1}^{t} - 2c_{i,j}^{t} +c_{i,j-1}^{t}}{(\\Delta y)^{2}}\n",
    "$$\n",
    "\n",
    "Substituting the above equations into the diffusion equation, the discretized diffusion equation is given as: \n",
    "$$\n",
    "c_{i,j}^{t+\\Delta t} = c_{i,j}^{t} + D\\left[ \\frac{c_{i+1,j}^{t} - 2c_{i,j}^{t} +c_{i-1,j}^{t}}{(\\Delta x)^{2}} + \\frac{c_{i,j+1}^{t} - 2c_{i,j}^{t} +c_{i,j-1}^{t}}{(\\Delta y)^{2}} \\right] \\Delta t\n",
    "$$"
   ]
  },
  {
   "cell_type": "markdown",
   "metadata": {
    "id": "q__cIChgt5rb"
   },
   "source": [
    "## Programming "
   ]
  },
  {
   "cell_type": "markdown",
   "metadata": {
    "id": "5AqXTEyht5rb"
   },
   "source": [
    "### import libraries"
   ]
  },
  {
   "cell_type": "code",
   "execution_count": 1,
   "metadata": {
    "colab": {
     "base_uri": "https://localhost:8080/"
    },
    "executionInfo": {
     "elapsed": 129202,
     "status": "ok",
     "timestamp": 1644243394768,
     "user": {
      "displayName": "Akinori YAMANAKA",
      "photoUrl": "https://lh3.googleusercontent.com/a-/AOh14GjH-a8vAX5pdveRaEOJqo-g9_KWgbs3uJ4r0GXUpA=s64",
      "userId": "13314989427460547249"
     },
     "user_tz": -540
    },
    "id": "RyuUU0-qt5rc",
    "outputId": "55127a16-a11a-404f-d524-84da99c08461"
   },
   "outputs": [
    {
     "name": "stdout",
     "output_type": "stream",
     "text": [
      "Collecting pycuda\n",
      "  Downloading pycuda-2021.1.tar.gz (1.7 MB)\n",
      "\u001b[?25l\r",
      "\u001b[K     |▏                               | 10 kB 16.7 MB/s eta 0:00:01\r",
      "\u001b[K     |▍                               | 20 kB 18.4 MB/s eta 0:00:01\r",
      "\u001b[K     |▋                               | 30 kB 11.6 MB/s eta 0:00:01\r",
      "\u001b[K     |▉                               | 40 kB 9.7 MB/s eta 0:00:01\r",
      "\u001b[K     |█                               | 51 kB 5.7 MB/s eta 0:00:01\r",
      "\u001b[K     |█▏                              | 61 kB 6.2 MB/s eta 0:00:01\r",
      "\u001b[K     |█▍                              | 71 kB 6.0 MB/s eta 0:00:01\r",
      "\u001b[K     |█▋                              | 81 kB 6.6 MB/s eta 0:00:01\r",
      "\u001b[K     |█▊                              | 92 kB 5.2 MB/s eta 0:00:01\r",
      "\u001b[K     |██                              | 102 kB 5.7 MB/s eta 0:00:01\r",
      "\u001b[K     |██▏                             | 112 kB 5.7 MB/s eta 0:00:01\r",
      "\u001b[K     |██▍                             | 122 kB 5.7 MB/s eta 0:00:01\r",
      "\u001b[K     |██▌                             | 133 kB 5.7 MB/s eta 0:00:01\r",
      "\u001b[K     |██▊                             | 143 kB 5.7 MB/s eta 0:00:01\r",
      "\u001b[K     |███                             | 153 kB 5.7 MB/s eta 0:00:01\r",
      "\u001b[K     |███▏                            | 163 kB 5.7 MB/s eta 0:00:01\r",
      "\u001b[K     |███▎                            | 174 kB 5.7 MB/s eta 0:00:01\r",
      "\u001b[K     |███▌                            | 184 kB 5.7 MB/s eta 0:00:01\r",
      "\u001b[K     |███▊                            | 194 kB 5.7 MB/s eta 0:00:01\r",
      "\u001b[K     |████                            | 204 kB 5.7 MB/s eta 0:00:01\r",
      "\u001b[K     |████                            | 215 kB 5.7 MB/s eta 0:00:01\r",
      "\u001b[K     |████▎                           | 225 kB 5.7 MB/s eta 0:00:01\r",
      "\u001b[K     |████▌                           | 235 kB 5.7 MB/s eta 0:00:01\r",
      "\u001b[K     |████▊                           | 245 kB 5.7 MB/s eta 0:00:01\r",
      "\u001b[K     |████▉                           | 256 kB 5.7 MB/s eta 0:00:01\r",
      "\u001b[K     |█████                           | 266 kB 5.7 MB/s eta 0:00:01\r",
      "\u001b[K     |█████▎                          | 276 kB 5.7 MB/s eta 0:00:01\r",
      "\u001b[K     |█████▌                          | 286 kB 5.7 MB/s eta 0:00:01\r",
      "\u001b[K     |█████▋                          | 296 kB 5.7 MB/s eta 0:00:01\r",
      "\u001b[K     |█████▉                          | 307 kB 5.7 MB/s eta 0:00:01\r",
      "\u001b[K     |██████                          | 317 kB 5.7 MB/s eta 0:00:01\r",
      "\u001b[K     |██████▎                         | 327 kB 5.7 MB/s eta 0:00:01\r",
      "\u001b[K     |██████▍                         | 337 kB 5.7 MB/s eta 0:00:01\r",
      "\u001b[K     |██████▋                         | 348 kB 5.7 MB/s eta 0:00:01\r",
      "\u001b[K     |██████▉                         | 358 kB 5.7 MB/s eta 0:00:01\r",
      "\u001b[K     |███████                         | 368 kB 5.7 MB/s eta 0:00:01\r",
      "\u001b[K     |███████▏                        | 378 kB 5.7 MB/s eta 0:00:01\r",
      "\u001b[K     |███████▍                        | 389 kB 5.7 MB/s eta 0:00:01\r",
      "\u001b[K     |███████▋                        | 399 kB 5.7 MB/s eta 0:00:01\r",
      "\u001b[K     |███████▉                        | 409 kB 5.7 MB/s eta 0:00:01\r",
      "\u001b[K     |████████                        | 419 kB 5.7 MB/s eta 0:00:01\r",
      "\u001b[K     |████████▏                       | 430 kB 5.7 MB/s eta 0:00:01\r",
      "\u001b[K     |████████▍                       | 440 kB 5.7 MB/s eta 0:00:01\r",
      "\u001b[K     |████████▋                       | 450 kB 5.7 MB/s eta 0:00:01\r",
      "\u001b[K     |████████▊                       | 460 kB 5.7 MB/s eta 0:00:01\r",
      "\u001b[K     |█████████                       | 471 kB 5.7 MB/s eta 0:00:01\r",
      "\u001b[K     |█████████▏                      | 481 kB 5.7 MB/s eta 0:00:01\r",
      "\u001b[K     |█████████▍                      | 491 kB 5.7 MB/s eta 0:00:01\r",
      "\u001b[K     |█████████▌                      | 501 kB 5.7 MB/s eta 0:00:01\r",
      "\u001b[K     |█████████▊                      | 512 kB 5.7 MB/s eta 0:00:01\r",
      "\u001b[K     |██████████                      | 522 kB 5.7 MB/s eta 0:00:01\r",
      "\u001b[K     |██████████▏                     | 532 kB 5.7 MB/s eta 0:00:01\r",
      "\u001b[K     |██████████▎                     | 542 kB 5.7 MB/s eta 0:00:01\r",
      "\u001b[K     |██████████▌                     | 552 kB 5.7 MB/s eta 0:00:01\r",
      "\u001b[K     |██████████▊                     | 563 kB 5.7 MB/s eta 0:00:01\r",
      "\u001b[K     |███████████                     | 573 kB 5.7 MB/s eta 0:00:01\r",
      "\u001b[K     |███████████                     | 583 kB 5.7 MB/s eta 0:00:01\r",
      "\u001b[K     |███████████▎                    | 593 kB 5.7 MB/s eta 0:00:01\r",
      "\u001b[K     |███████████▌                    | 604 kB 5.7 MB/s eta 0:00:01\r",
      "\u001b[K     |███████████▊                    | 614 kB 5.7 MB/s eta 0:00:01\r",
      "\u001b[K     |███████████▉                    | 624 kB 5.7 MB/s eta 0:00:01\r",
      "\u001b[K     |████████████                    | 634 kB 5.7 MB/s eta 0:00:01\r",
      "\u001b[K     |████████████▎                   | 645 kB 5.7 MB/s eta 0:00:01\r",
      "\u001b[K     |████████████▌                   | 655 kB 5.7 MB/s eta 0:00:01\r",
      "\u001b[K     |████████████▋                   | 665 kB 5.7 MB/s eta 0:00:01\r",
      "\u001b[K     |████████████▉                   | 675 kB 5.7 MB/s eta 0:00:01\r",
      "\u001b[K     |█████████████                   | 686 kB 5.7 MB/s eta 0:00:01\r",
      "\u001b[K     |█████████████▎                  | 696 kB 5.7 MB/s eta 0:00:01\r",
      "\u001b[K     |█████████████▍                  | 706 kB 5.7 MB/s eta 0:00:01\r",
      "\u001b[K     |█████████████▋                  | 716 kB 5.7 MB/s eta 0:00:01\r",
      "\u001b[K     |█████████████▉                  | 727 kB 5.7 MB/s eta 0:00:01\r",
      "\u001b[K     |██████████████                  | 737 kB 5.7 MB/s eta 0:00:01\r",
      "\u001b[K     |██████████████▏                 | 747 kB 5.7 MB/s eta 0:00:01\r",
      "\u001b[K     |██████████████▍                 | 757 kB 5.7 MB/s eta 0:00:01\r",
      "\u001b[K     |██████████████▋                 | 768 kB 5.7 MB/s eta 0:00:01\r",
      "\u001b[K     |██████████████▉                 | 778 kB 5.7 MB/s eta 0:00:01\r",
      "\u001b[K     |███████████████                 | 788 kB 5.7 MB/s eta 0:00:01\r",
      "\u001b[K     |███████████████▏                | 798 kB 5.7 MB/s eta 0:00:01\r",
      "\u001b[K     |███████████████▍                | 808 kB 5.7 MB/s eta 0:00:01\r",
      "\u001b[K     |███████████████▋                | 819 kB 5.7 MB/s eta 0:00:01\r",
      "\u001b[K     |███████████████▊                | 829 kB 5.7 MB/s eta 0:00:01\r",
      "\u001b[K     |████████████████                | 839 kB 5.7 MB/s eta 0:00:01\r",
      "\u001b[K     |████████████████▏               | 849 kB 5.7 MB/s eta 0:00:01\r",
      "\u001b[K     |████████████████▍               | 860 kB 5.7 MB/s eta 0:00:01\r",
      "\u001b[K     |████████████████▌               | 870 kB 5.7 MB/s eta 0:00:01\r",
      "\u001b[K     |████████████████▊               | 880 kB 5.7 MB/s eta 0:00:01\r",
      "\u001b[K     |█████████████████               | 890 kB 5.7 MB/s eta 0:00:01\r",
      "\u001b[K     |█████████████████▏              | 901 kB 5.7 MB/s eta 0:00:01\r",
      "\u001b[K     |█████████████████▍              | 911 kB 5.7 MB/s eta 0:00:01\r",
      "\u001b[K     |█████████████████▌              | 921 kB 5.7 MB/s eta 0:00:01\r",
      "\u001b[K     |█████████████████▊              | 931 kB 5.7 MB/s eta 0:00:01\r",
      "\u001b[K     |██████████████████              | 942 kB 5.7 MB/s eta 0:00:01\r",
      "\u001b[K     |██████████████████▏             | 952 kB 5.7 MB/s eta 0:00:01\r",
      "\u001b[K     |██████████████████▎             | 962 kB 5.7 MB/s eta 0:00:01\r",
      "\u001b[K     |██████████████████▌             | 972 kB 5.7 MB/s eta 0:00:01\r",
      "\u001b[K     |██████████████████▊             | 983 kB 5.7 MB/s eta 0:00:01\r",
      "\u001b[K     |███████████████████             | 993 kB 5.7 MB/s eta 0:00:01\r",
      "\u001b[K     |███████████████████             | 1.0 MB 5.7 MB/s eta 0:00:01\r",
      "\u001b[K     |███████████████████▎            | 1.0 MB 5.7 MB/s eta 0:00:01\r",
      "\u001b[K     |███████████████████▌            | 1.0 MB 5.7 MB/s eta 0:00:01\r",
      "\u001b[K     |███████████████████▊            | 1.0 MB 5.7 MB/s eta 0:00:01\r",
      "\u001b[K     |███████████████████▉            | 1.0 MB 5.7 MB/s eta 0:00:01\r",
      "\u001b[K     |████████████████████            | 1.1 MB 5.7 MB/s eta 0:00:01\r",
      "\u001b[K     |████████████████████▎           | 1.1 MB 5.7 MB/s eta 0:00:01\r",
      "\u001b[K     |████████████████████▌           | 1.1 MB 5.7 MB/s eta 0:00:01\r",
      "\u001b[K     |████████████████████▋           | 1.1 MB 5.7 MB/s eta 0:00:01\r",
      "\u001b[K     |████████████████████▉           | 1.1 MB 5.7 MB/s eta 0:00:01\r",
      "\u001b[K     |█████████████████████           | 1.1 MB 5.7 MB/s eta 0:00:01\r",
      "\u001b[K     |█████████████████████▎          | 1.1 MB 5.7 MB/s eta 0:00:01\r",
      "\u001b[K     |█████████████████████▍          | 1.1 MB 5.7 MB/s eta 0:00:01\r",
      "\u001b[K     |█████████████████████▋          | 1.1 MB 5.7 MB/s eta 0:00:01\r",
      "\u001b[K     |█████████████████████▉          | 1.1 MB 5.7 MB/s eta 0:00:01\r",
      "\u001b[K     |██████████████████████          | 1.2 MB 5.7 MB/s eta 0:00:01\r",
      "\u001b[K     |██████████████████████▏         | 1.2 MB 5.7 MB/s eta 0:00:01\r",
      "\u001b[K     |██████████████████████▍         | 1.2 MB 5.7 MB/s eta 0:00:01\r",
      "\u001b[K     |██████████████████████▋         | 1.2 MB 5.7 MB/s eta 0:00:01\r",
      "\u001b[K     |██████████████████████▉         | 1.2 MB 5.7 MB/s eta 0:00:01\r",
      "\u001b[K     |███████████████████████         | 1.2 MB 5.7 MB/s eta 0:00:01\r",
      "\u001b[K     |███████████████████████▏        | 1.2 MB 5.7 MB/s eta 0:00:01\r",
      "\u001b[K     |███████████████████████▍        | 1.2 MB 5.7 MB/s eta 0:00:01\r",
      "\u001b[K     |███████████████████████▋        | 1.2 MB 5.7 MB/s eta 0:00:01\r",
      "\u001b[K     |███████████████████████▊        | 1.2 MB 5.7 MB/s eta 0:00:01\r",
      "\u001b[K     |████████████████████████        | 1.3 MB 5.7 MB/s eta 0:00:01\r",
      "\u001b[K     |████████████████████████▏       | 1.3 MB 5.7 MB/s eta 0:00:01\r",
      "\u001b[K     |████████████████████████▍       | 1.3 MB 5.7 MB/s eta 0:00:01\r",
      "\u001b[K     |████████████████████████▌       | 1.3 MB 5.7 MB/s eta 0:00:01\r",
      "\u001b[K     |████████████████████████▊       | 1.3 MB 5.7 MB/s eta 0:00:01\r",
      "\u001b[K     |█████████████████████████       | 1.3 MB 5.7 MB/s eta 0:00:01\r",
      "\u001b[K     |█████████████████████████▏      | 1.3 MB 5.7 MB/s eta 0:00:01\r",
      "\u001b[K     |█████████████████████████▎      | 1.3 MB 5.7 MB/s eta 0:00:01\r",
      "\u001b[K     |█████████████████████████▌      | 1.3 MB 5.7 MB/s eta 0:00:01\r",
      "\u001b[K     |█████████████████████████▊      | 1.4 MB 5.7 MB/s eta 0:00:01\r",
      "\u001b[K     |██████████████████████████      | 1.4 MB 5.7 MB/s eta 0:00:01\r",
      "\u001b[K     |██████████████████████████      | 1.4 MB 5.7 MB/s eta 0:00:01\r",
      "\u001b[K     |██████████████████████████▎     | 1.4 MB 5.7 MB/s eta 0:00:01\r",
      "\u001b[K     |██████████████████████████▌     | 1.4 MB 5.7 MB/s eta 0:00:01\r",
      "\u001b[K     |██████████████████████████▊     | 1.4 MB 5.7 MB/s eta 0:00:01\r",
      "\u001b[K     |██████████████████████████▉     | 1.4 MB 5.7 MB/s eta 0:00:01\r",
      "\u001b[K     |███████████████████████████     | 1.4 MB 5.7 MB/s eta 0:00:01\r",
      "\u001b[K     |███████████████████████████▎    | 1.4 MB 5.7 MB/s eta 0:00:01\r",
      "\u001b[K     |███████████████████████████▌    | 1.4 MB 5.7 MB/s eta 0:00:01\r",
      "\u001b[K     |███████████████████████████▋    | 1.5 MB 5.7 MB/s eta 0:00:01\r",
      "\u001b[K     |███████████████████████████▉    | 1.5 MB 5.7 MB/s eta 0:00:01\r",
      "\u001b[K     |████████████████████████████    | 1.5 MB 5.7 MB/s eta 0:00:01\r",
      "\u001b[K     |████████████████████████████▎   | 1.5 MB 5.7 MB/s eta 0:00:01\r",
      "\u001b[K     |████████████████████████████▍   | 1.5 MB 5.7 MB/s eta 0:00:01\r",
      "\u001b[K     |████████████████████████████▋   | 1.5 MB 5.7 MB/s eta 0:00:01\r",
      "\u001b[K     |████████████████████████████▉   | 1.5 MB 5.7 MB/s eta 0:00:01\r",
      "\u001b[K     |█████████████████████████████   | 1.5 MB 5.7 MB/s eta 0:00:01\r",
      "\u001b[K     |█████████████████████████████▏  | 1.5 MB 5.7 MB/s eta 0:00:01\r",
      "\u001b[K     |█████████████████████████████▍  | 1.5 MB 5.7 MB/s eta 0:00:01\r",
      "\u001b[K     |█████████████████████████████▋  | 1.6 MB 5.7 MB/s eta 0:00:01\r",
      "\u001b[K     |█████████████████████████████▉  | 1.6 MB 5.7 MB/s eta 0:00:01\r",
      "\u001b[K     |██████████████████████████████  | 1.6 MB 5.7 MB/s eta 0:00:01\r",
      "\u001b[K     |██████████████████████████████▏ | 1.6 MB 5.7 MB/s eta 0:00:01\r",
      "\u001b[K     |██████████████████████████████▍ | 1.6 MB 5.7 MB/s eta 0:00:01\r",
      "\u001b[K     |██████████████████████████████▋ | 1.6 MB 5.7 MB/s eta 0:00:01\r",
      "\u001b[K     |██████████████████████████████▊ | 1.6 MB 5.7 MB/s eta 0:00:01\r",
      "\u001b[K     |███████████████████████████████ | 1.6 MB 5.7 MB/s eta 0:00:01\r",
      "\u001b[K     |███████████████████████████████▏| 1.6 MB 5.7 MB/s eta 0:00:01\r",
      "\u001b[K     |███████████████████████████████▍| 1.6 MB 5.7 MB/s eta 0:00:01\r",
      "\u001b[K     |███████████████████████████████▌| 1.7 MB 5.7 MB/s eta 0:00:01\r",
      "\u001b[K     |███████████████████████████████▊| 1.7 MB 5.7 MB/s eta 0:00:01\r",
      "\u001b[K     |████████████████████████████████| 1.7 MB 5.7 MB/s eta 0:00:01\r",
      "\u001b[K     |████████████████████████████████| 1.7 MB 5.7 MB/s \n",
      "\u001b[?25h  Installing build dependencies ... \u001b[?25l\u001b[?25hdone\n",
      "  Getting requirements to build wheel ... \u001b[?25l\u001b[?25hdone\n",
      "    Preparing wheel metadata ... \u001b[?25l\u001b[?25hdone\n",
      "Requirement already satisfied: appdirs>=1.4.0 in /usr/local/lib/python3.7/dist-packages (from pycuda) (1.4.4)\n",
      "Collecting mako\n",
      "  Downloading Mako-1.1.6-py2.py3-none-any.whl (75 kB)\n",
      "\u001b[K     |████████████████████████████████| 75 kB 4.4 MB/s \n",
      "\u001b[?25hCollecting pytools>=2011.2\n",
      "  Downloading pytools-2021.2.9.tar.gz (66 kB)\n",
      "\u001b[K     |████████████████████████████████| 66 kB 4.4 MB/s \n",
      "\u001b[?25hRequirement already satisfied: numpy>=1.6.0 in /usr/local/lib/python3.7/dist-packages (from pytools>=2011.2->pycuda) (1.19.5)\n",
      "Requirement already satisfied: MarkupSafe>=0.9.2 in /usr/local/lib/python3.7/dist-packages (from mako->pycuda) (2.0.1)\n",
      "Building wheels for collected packages: pycuda, pytools\n",
      "  Building wheel for pycuda (PEP 517) ... \u001b[?25l\u001b[?25hdone\n",
      "  Created wheel for pycuda: filename=pycuda-2021.1-cp37-cp37m-linux_x86_64.whl size=626633 sha256=9f5b202b376bb8ef0bbdbaf2e6a3d98315fdf3a64a46e45de42ce50832540aa6\n",
      "  Stored in directory: /root/.cache/pip/wheels/c4/ef/49/dc6a5feb8d980b37c83d465ecab24949a6aa19458522a9e001\n",
      "  Building wheel for pytools (setup.py) ... \u001b[?25l\u001b[?25hdone\n",
      "  Created wheel for pytools: filename=pytools-2021.2.9-py2.py3-none-any.whl size=62370 sha256=4c4d729a0b5065c919807d319ac84db0674d9f383eb8718a3224713dc4790038\n",
      "  Stored in directory: /root/.cache/pip/wheels/41/b9/6e/94bb014f6484b15ec77e7877f3a227609481ffd98db364504d\n",
      "Successfully built pycuda pytools\n",
      "Installing collected packages: pytools, mako, pycuda\n",
      "Successfully installed mako-1.1.6 pycuda-2021.1 pytools-2021.2.9\n"
     ]
    }
   ],
   "source": [
    "%matplotlib nbagg\n",
    "import numpy as np \n",
    "import matplotlib.pyplot as plt\n",
    "\n",
    "!pip install pycuda # install pycuda\n",
    "import pycuda.driver as drv\n",
    "from pycuda.compiler import SourceModule"
   ]
  },
  {
   "cell_type": "markdown",
   "metadata": {
    "id": "3EAxdZRmt5rd"
   },
   "source": [
    "### set parameters and physical values"
   ]
  },
  {
   "cell_type": "code",
   "execution_count": 2,
   "metadata": {
    "executionInfo": {
     "elapsed": 19,
     "status": "ok",
     "timestamp": 1644243394769,
     "user": {
      "displayName": "Akinori YAMANAKA",
      "photoUrl": "https://lh3.googleusercontent.com/a-/AOh14GjH-a8vAX5pdveRaEOJqo-g9_KWgbs3uJ4r0GXUpA=s64",
      "userId": "13314989427460547249"
     },
     "user_tz": -540
    },
    "id": "EWw957i5t5re"
   },
   "outputs": [],
   "source": [
    "nx, ny = 128, 128 # number of computational grids along x and y directions\n",
    "dx = dy = 0.5 # spacing of finite difference grids [m]\n",
    "D = 0.3 # diffusion coefficient [m2/s]\n",
    "nsteps = 1000 # number of time steps\n",
    "dt = dx*dx*dy*dy/(2*D*(dx*dx+dy*dy))*0.5 # time increment for 1 time step\n",
    "c0 = 1.0 # initial concentration in a high concentration region"
   ]
  },
  {
   "cell_type": "markdown",
   "metadata": {
    "id": "0PRgL_Zyt5rf"
   },
   "source": [
    "### declare arrays for concentration-field "
   ]
  },
  {
   "cell_type": "code",
   "execution_count": 3,
   "metadata": {
    "executionInfo": {
     "elapsed": 17,
     "status": "ok",
     "timestamp": 1644243394770,
     "user": {
      "displayName": "Akinori YAMANAKA",
      "photoUrl": "https://lh3.googleusercontent.com/a-/AOh14GjH-a8vAX5pdveRaEOJqo-g9_KWgbs3uJ4r0GXUpA=s64",
      "userId": "13314989427460547249"
     },
     "user_tz": -540
    },
    "id": "X5lqWaoPt5rf"
   },
   "outputs": [],
   "source": [
    "c = np.zeros((nx, ny)).astype(np.float32) # array for a concentration-fieldat time t \n",
    "c_new = np.zeros((nx, ny)).astype(np.float32) # array for a concentration-fieldat time t+dt"
   ]
  },
  {
   "cell_type": "markdown",
   "metadata": {
    "id": "TtkQ17bft5rg"
   },
   "source": [
    "### define a function for solving the discretized diffusion equation\n",
    "In this code, the zero-Neumann boundary condition which assumes zero-gradient of the concentration at the boundary of computational domain is used. "
   ]
  },
  {
   "cell_type": "code",
   "execution_count": 4,
   "metadata": {
    "executionInfo": {
     "elapsed": 18,
     "status": "ok",
     "timestamp": 1644243394771,
     "user": {
      "displayName": "Akinori YAMANAKA",
      "photoUrl": "https://lh3.googleusercontent.com/a-/AOh14GjH-a8vAX5pdveRaEOJqo-g9_KWgbs3uJ4r0GXUpA=s64",
      "userId": "13314989427460547249"
     },
     "user_tz": -540
    },
    "id": "DfbBUdsnXq6h"
   },
   "outputs": [],
   "source": [
    "# CUDA Cで記述する\n",
    "def get_kernel_string(nx, ny, dx, dy, dt, D):\n",
    "    return \"\"\"\n",
    "    #define nx %d\n",
    "    #define ny %d\n",
    "    #define dx %f\n",
    "    #define dy %f\n",
    "    #define dt %f\n",
    "    #define D  %f\n",
    "    __global__ void diffuse_kernel(float *u_new, float *u) {\n",
    "\n",
    "        int i = blockIdx.x * block_size_x + threadIdx.x;\n",
    "        int j = blockIdx.y * block_size_y + threadIdx.y;\n",
    "\n",
    "        int ip = i + 1;\n",
    "        int im = i - 1;\n",
    "        int jp = j + 1;\n",
    "        int jm = j - 1;\n",
    "        if(ip > nx-1) { ip = nx - 1; }\n",
    "        if(im < 0  ) { im = 0; }\n",
    "        if(jp > ny-1) { jp = ny - 1;}\n",
    "        if(jm < 0  ) { jm = 0; }\n",
    "\n",
    "        u_new[j*nx+i] = u[j*nx+i] + D * ( (u[j*nx+ ip] - 2.0f*u[j*nx+i] + u[j*nx+ im])/dx/dx + ( u[( jp )*nx+i] - 2.0f*u[j*nx+i] + u[( jm )*nx+i] )/dy/dy )*dt;\n",
    "    }\n",
    "    \"\"\" % (nx, ny, dx, dy, dt, D)\n",
    "\n",
    "kernel_string = get_kernel_string(nx, ny, dx, dy, dt, D)"
   ]
  },
  {
   "cell_type": "markdown",
   "metadata": {
    "id": "FX-V34Blt5rh"
   },
   "source": [
    "### set the initial concentration-field"
   ]
  },
  {
   "cell_type": "code",
   "execution_count": 5,
   "metadata": {
    "colab": {
     "base_uri": "https://localhost:8080/",
     "height": 281
    },
    "executionInfo": {
     "elapsed": 554,
     "status": "ok",
     "timestamp": 1644243395308,
     "user": {
      "displayName": "Akinori YAMANAKA",
      "photoUrl": "https://lh3.googleusercontent.com/a-/AOh14GjH-a8vAX5pdveRaEOJqo-g9_KWgbs3uJ4r0GXUpA=s64",
      "userId": "13314989427460547249"
     },
     "user_tz": -540
    },
    "id": "za9Dh1Gct5rh",
    "outputId": "b5d10566-6ec8-4cff-87b3-e9d9d2243a9a"
   },
   "outputs": [
    {
     "data": {
      "image/png": "[encoded data removed]",
      "text/plain": [
       "<Figure size 432x288 with 2 Axes>"
      ]
     },
     "metadata": {
      "needs_background": "light"
     },
     "output_type": "display_data"
    }
   ],
   "source": [
    "r = 5.0 # radius of the high-concentration region\n",
    "x0 = nx/2 # central potition of the high-concentration region\n",
    "y0 = ny/2\n",
    "\n",
    "for i in range(nx):\n",
    "    for j in range(ny):\n",
    "        r2 = (i*dx-x0*dx)**2 + (j*dy-y0*dx)**2\n",
    "        if r2 < r**2:\n",
    "            c[i,j] = c0\n",
    "\n",
    "plt.imshow(c, cmap='bwr')\n",
    "plt.title('concentration')\n",
    "plt.colorbar()\n",
    "plt.show() "
   ]
  },
  {
   "cell_type": "markdown",
   "metadata": {
    "id": "c4eX_0V2t5rh"
   },
   "source": [
    "### time integration of diffusion equation"
   ]
  },
  {
   "cell_type": "code",
   "execution_count": 6,
   "metadata": {
    "colab": {
     "base_uri": "https://localhost:8080/",
     "height": 370
    },
    "executionInfo": {
     "elapsed": 1567,
     "status": "ok",
     "timestamp": 1644243396850,
     "user": {
      "displayName": "Akinori YAMANAKA",
      "photoUrl": "https://lh3.googleusercontent.com/a-/AOh14GjH-a8vAX5pdveRaEOJqo-g9_KWgbs3uJ4r0GXUpA=s64",
      "userId": "13314989427460547249"
     },
     "user_tz": -540
    },
    "id": "6ePbhKCWYpKm",
    "outputId": "d3e88b68-0362-49da-e80a-152f14589a4e"
   },
   "outputs": [
    {
     "name": "stderr",
     "output_type": "stream",
     "text": [
      "/usr/local/lib/python3.7/dist-packages/ipykernel_launcher.py:17: UserWarning: The CUDA compiler succeeded, but said the following:\n",
      "nvcc warning : The 'compute_35', 'compute_37', 'compute_50', 'sm_35', 'sm_37' and 'sm_50' architectures are deprecated, and may be removed in a future release (Use -Wno-deprecated-gpu-targets to suppress warning).\n",
      "\n"
     ]
    },
    {
     "name": "stdout",
     "output_type": "stream",
     "text": [
      "1000 steps of diffuse took 14.855135917663574 ms.\n"
     ]
    },
    {
     "data": {
      "image/png": "[encoded data removed]",
      "text/plain": [
       "<Figure size 432x288 with 2 Axes>"
      ]
     },
     "metadata": {
      "needs_background": "light"
     },
     "output_type": "display_data"
    }
   ],
   "source": [
    "#initialize PyCuda and get compute capability needed for compilation\n",
    "drv.init()\n",
    "context = drv.Device(0).make_context()\n",
    "devprops = { str(k): v for (k, v) in context.get_device().get_attributes().items() }\n",
    "cc = str(devprops['COMPUTE_CAPABILITY_MAJOR']) + str(devprops['COMPUTE_CAPABILITY_MINOR'])\n",
    "\n",
    "#allocate GPU memory\n",
    "u_old = drv.mem_alloc(c.nbytes)\n",
    "u_new = drv.mem_alloc(c_new.nbytes)\n",
    "\n",
    "#setup thread block dimensions and compile the kernel\n",
    "threads = (16,16,1)\n",
    "grid = (int(nx/16), int(ny/16), 1)\n",
    "\n",
    "block_size_string = \"#define block_size_x 16\\n#define block_size_y 16\\n\"\n",
    "diffuse_kernel = SourceModule(block_size_string+kernel_string, arch='sm_'+cc).get_function(\"diffuse_kernel\")\n",
    "\n",
    "#create events for measuring performance\n",
    "start = drv.Event()\n",
    "end = drv.Event()\n",
    "\n",
    "#move the data to the GPU\n",
    "drv.memcpy_htod(u_old, c)\n",
    "drv.memcpy_htod(u_new, c)\n",
    "\n",
    "#call the GPU kernel a 1000 times and measure performance\n",
    "context.synchronize()\n",
    "start.record()\n",
    "for i in range(500):\n",
    "    diffuse_kernel(u_new, u_old, block=threads, grid=grid)\n",
    "    diffuse_kernel(u_old, u_new, block=threads, grid=grid)\n",
    "end.record()\n",
    "context.synchronize()\n",
    "print(\"1000 steps of diffuse took\", end.time_since(start), \"ms.\")\n",
    "\n",
    "#copy the result from the GPU to Python for plotting\n",
    "gpu_result = np.zeros_like(c)\n",
    "drv.memcpy_dtoh(gpu_result, u_new)\n",
    "\n",
    "plt.imshow(gpu_result, cmap='bwr')\n",
    "plt.title('concentration')\n",
    "plt.colorbar()\n",
    "plt.show() "
   ]
  },
  {
   "cell_type": "code",
   "execution_count": 6,
   "metadata": {
    "executionInfo": {
     "elapsed": 15,
     "status": "ok",
     "timestamp": 1644243396852,
     "user": {
      "displayName": "Akinori YAMANAKA",
      "photoUrl": "https://lh3.googleusercontent.com/a-/AOh14GjH-a8vAX5pdveRaEOJqo-g9_KWgbs3uJ4r0GXUpA=s64",
      "userId": "13314989427460547249"
     },
     "user_tz": -540
    },
    "id": "wytPzkYFxVir"
   },
   "outputs": [],
   "source": []
  }
 ],
 "metadata": {
  "accelerator": "GPU",
  "colab": {
   "collapsed_sections": [],
   "name": "Diffusion_2d_PyCuda.ipynb",
   "provenance": []
  },
  "kernelspec": {
   "display_name": "Python 3",
   "language": "python",
   "name": "python3"
  },
  "language_info": {
   "codemirror_mode": {
    "name": "ipython",
    "version": 3
   },
   "file_extension": ".py",
   "mimetype": "text/x-python",
   "name": "python",
   "nbconvert_exporter": "python",
   "pygments_lexer": "ipython3",
   "version": "3.8.8"
  }
 },
 "nbformat": 4,
 "nbformat_minor": 1
}
